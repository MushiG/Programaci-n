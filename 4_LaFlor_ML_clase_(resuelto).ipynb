{
  "nbformat": 4,
  "nbformat_minor": 0,
  "metadata": {
    "colab": {
      "provenance": [],
      "include_colab_link": true
    },
    "kernelspec": {
      "name": "python3",
      "display_name": "Python 3"
    },
    "language_info": {
      "name": "python"
    }
  },
  "cells": [
    {
      "cell_type": "markdown",
      "metadata": {
        "id": "view-in-github",
        "colab_type": "text"
      },
      "source": [
        "<a href=\"https://colab.research.google.com/github/MushiG/Programaci-n/blob/main/4_LaFlor_ML_clase_(resuelto).ipynb\" target=\"_parent\"><img src=\"https://colab.research.google.com/assets/colab-badge.svg\" alt=\"Open In Colab\"/></a>"
      ]
    },
    {
      "cell_type": "markdown",
      "source": [],
      "metadata": {
        "id": "vIG-5R69JOVU"
      }
    },
    {
      "cell_type": "markdown",
      "metadata": {
        "id": "vCTBRCShUhGb"
      },
      "source": [
        "![image](https://www.earth.ac.cr/wp-content/themes/cummins/images/logo-es.png)\n",
        "## Curso de Programación aplicada a la agricultura\n",
        "###Material de apoyo Tema Análisis de Datos\n",
        "# Jupyter_5 Principios de los algoritmos de aprendizaje automático\n",
        "\n",
        "### Preparado por:\n",
        "Prof. Gregory Guevara, \n",
        "Enero 2023, gguevara@earth.ac.cr\n",
        "\n",
        "\n",
        "**Aprendizaje Automatico**"
      ]
    },
    {
      "cell_type": "markdown",
      "metadata": {
        "id": "rc506--KMJgT"
      },
      "source": [
        "Principios de Aprendizaje Supervisado##\n",
        "\n",
        "En este trabajo se seleccionará un conjunto de datos (dataset) de alguna de las fuentes propuestas en clase, o bien de algún repositorio que considere oportuno. Se llevarán a cabo diferentes tareas de aprendizaje automático (tipo benchmark) y se hará un análisis de los resultados y estrategia de diseño de los diferentes experimentos propuestos por ustedes."
      ]
    },
    {
      "cell_type": "markdown",
      "source": [
        "Diagrama: ![](https://cdn-images-1.medium.com/max/1600/1*eE8DP4biqtaIK3aIy1S2zA.png)"
      ],
      "metadata": {
        "id": "jmoxhNpL6SGX"
      }
    },
    {
      "cell_type": "markdown",
      "source": [
        "En el segundo, se construyen varios modelos secuencialmente y se intenta reducir el sesgo del modelo combinado. El objetivo es construir varios modelos débiles para producir un modelo fuerte. Ejemplos: AdaBoost y Gradient Tree Boosting."
      ],
      "metadata": {
        "id": "_0jUBsPs3MaP"
      }
    },
    {
      "cell_type": "markdown",
      "source": [
        "Diagrama: ![](https://live.staticflickr.com/65535/48051633738_096b38a7db_b.jpg)"
      ],
      "metadata": {
        "id": "beh_8JuZ6_Ic"
      }
    },
    {
      "cell_type": "markdown",
      "source": [
        "Fuentes:\n",
        "\n",
        "https://scikit-learn.org/stable/modules/ensemble.html\n",
        "\n",
        "https://aprendeia.com/metodos-de-ensamble-de-modelos-machine-learning-ensemble-methods-en-espanol/#:~:text=Los%20m%C3%A9todos%20de%20ensamble%20de%20modelos%20o%20m%C3%A9todos,problema%20particular.%20Pero%20veamos%20esto%20con%20un%20ejemplo%3A\n",
        "\n"
      ],
      "metadata": {
        "id": "oesC0A-J3uAd"
      }
    },
    {
      "cell_type": "markdown",
      "source": [
        "#Preprocesado de los Datos#"
      ],
      "metadata": {
        "id": "Cs9VWkZS7GM3"
      }
    },
    {
      "cell_type": "code",
      "execution_count": null,
      "metadata": {
        "id": "moY-EwMCrWN-"
      },
      "outputs": [],
      "source": [
        "import torch \n",
        "import math \n",
        "import numpy as np\n",
        "from sklearn.preprocessing import MinMaxScaler\n",
        "import seaborn as sns\n",
        "import matplotlib.pyplot as plt\n",
        "\n",
        "import pandas as pd"
      ]
    },
    {
      "cell_type": "markdown",
      "metadata": {
        "id": "4kE-CNFjrWN_"
      },
      "source": [
        "##Paso 1. Descripción de los datos.\n",
        "## Análisis de un DATA SET climático para evaluar relaciones entre parámetros metereológicos. \n",
        "\n",
        "Fuente de data: \n",
        "![](https://power.larc.nasa.gov/data-access-viewer/widgets/Information/images/POWER_logo.png)\n",
        "\n",
        "El conjunto de datos fue tomado de NASA/POWER DATA ACCESS https://power.larc.nasa.gov/data-access-viewer/ , capturando datos climáticos de los misiones satelitales \n",
        " - CERES y M\n",
        " - ERRA2 Native Resolution Daily Data\n",
        "\n",
        "\n",
        "#### Datos Geográficos   \n",
        "- Latitude  10.6259   \n",
        "- Longitude -85.5294 \n",
        "- Finca Campus LA FLOR Universidad EARTH.\n",
        "- Libería Guanacaste \n",
        "\n",
        "##### Datos Temporales \n",
        "- Fecha de incio: 1 de enero del 2001\n",
        "- Fecha final: 31 de diciembre del 2020\n",
        "- 2 Décadas de datos climáticos \n",
        "\n",
        "De esta herramienta se descargo las 2 últimas decadas de datos climáticos a partir de satelites de NASA en sus misiones MERRA-2 y CERES. \n",
        "\n",
        "### Objetivo \n",
        "\n",
        "Analizar el comportamiento de la EVAPOTRANSPIRACION (requerimiento de agua por el ambiente) en términos de otras variables climáticas, usando Data sets \n",
        "\n",
        "### Descripción de los datos \n",
        "\n",
        "El conjunto de datos, en formato CSV (columnas separadas por coma), contiene 10 columnas, las columnas según su orden indica lo siguiente \n",
        "\n",
        "0. year: años de los datos, los cuales van desde 2001 hasta el 2020 (2 decadas)\n",
        "1. DOY: day of the year (día del año)\n",
        "2. top_rad:  top_radiation o radiación al tope de la admósfera (MJ/m2/día)\n",
        "3. surface_rad: Radiación en la superficie de la tierra (MJ/m2/día)\n",
        "4. uva-ra: radiación ultravioleta (W/m2-día)\n",
        "5. t_min: temperatura mínima (°C)\n",
        "6. t_max: temperatura máxima (°C) \n",
        "7. prec: precipitación (mm/día)\n",
        "8. rel_hum: humedad relativa en %\n",
        "9. surface_pres: presión barométrica (KPa)\n",
        "10. eto: evapotranspiración potencial (mm/día)\n",
        "\n",
        "\n",
        "\n"
      ]
    },
    {
      "cell_type": "markdown",
      "metadata": {
        "id": "Q7WQ-QBjvqLl"
      },
      "source": [
        "## Paso 2. Apertura de los datos \n"
      ]
    },
    {
      "cell_type": "code",
      "execution_count": null,
      "metadata": {
        "colab": {
          "base_uri": "https://localhost:8080/"
        },
        "id": "DTaPMSN-2GN0",
        "outputId": "ed58464e-649a-4c1a-dfa4-112071fad95e"
      },
      "outputs": [
        {
          "output_type": "execute_result",
          "data": {
            "text/plain": [
              "(7305, 11)"
            ]
          },
          "metadata": {},
          "execution_count": 2
        }
      ],
      "source": [
        "\n",
        "url='https://raw.githubusercontent.com/greko-guevara/tareas_IA/main/data_finca_laflor.csv'\n",
        "\n",
        "df =pd.read_csv(url) #carpeta contenedora del archivo de inicio\n",
        "df.shape"
      ]
    },
    {
      "cell_type": "markdown",
      "metadata": {
        "id": "ompw70PNv4Ob"
      },
      "source": [
        "##Paso 3. Se analizan datos faltantes "
      ]
    },
    {
      "cell_type": "markdown",
      "metadata": {
        "id": "nh7ZKtxaYGsT"
      },
      "source": [
        "Se analiza la cantidad de datos faltantes "
      ]
    },
    {
      "cell_type": "code",
      "execution_count": null,
      "metadata": {
        "colab": {
          "base_uri": "https://localhost:8080/"
        },
        "id": "gJZX1qHLSGuq",
        "outputId": "8f5ac6a1-cad5-44fa-9562-b9104fc8092e"
      },
      "outputs": [
        {
          "output_type": "stream",
          "name": "stdout",
          "text": [
            "******************************\n",
            "Valores faltantes o NaN, en porcentajes:\n",
            " YEAR            0.000000\n",
            "DOY             0.000000\n",
            "top_rad         0.068446\n",
            "surface_rad     0.301164\n",
            "uva-ra          0.547570\n",
            "t_min           0.725530\n",
            "t_max           0.670773\n",
            "prec            0.287474\n",
            "rel_hum         0.109514\n",
            "surface_pres    0.082136\n",
            "eto             0.136893\n",
            "dtype: float64\n"
          ]
        }
      ],
      "source": [
        "print (\"******************************\")\n",
        "print(\"Valores faltantes o NaN, en porcentajes:\\n\",(df.isnull().sum()/df.shape[0])*100)"
      ]
    },
    {
      "cell_type": "markdown",
      "metadata": {
        "id": "EEJ3-x-C7gdf"
      },
      "source": [
        "A continuación el proceso de limpieza de datos\n"
      ]
    },
    {
      "cell_type": "code",
      "execution_count": null,
      "metadata": {
        "colab": {
          "base_uri": "https://localhost:8080/",
          "height": 318
        },
        "id": "k3mc_H2trWN_",
        "outputId": "6cbb96b2-f80f-485f-9cd3-45d7691871a9"
      },
      "outputs": [
        {
          "output_type": "stream",
          "name": "stdout",
          "text": [
            "(7146, 11)\n"
          ]
        },
        {
          "output_type": "execute_result",
          "data": {
            "text/plain": [
              "              YEAR          DOY      top_rad  surface_rad       uva-ra  \\\n",
              "count  7146.000000  7146.000000  7146.000000  7146.000000  7146.000000   \n",
              "mean   2010.547019   182.890428    35.353855    18.883529    13.644184   \n",
              "std       5.790641   105.550799     2.461045     3.733363     2.231266   \n",
              "min    2001.000000     1.000000    30.600000     2.680000     2.510000   \n",
              "25%    2005.000000    91.000000    33.210000    16.610000    12.350000   \n",
              "50%    2011.000000   182.000000    36.890000    19.180000    13.800000   \n",
              "75%    2016.000000   274.000000    37.280000    21.450000    15.150000   \n",
              "max    2020.000000   366.000000    37.900000    27.810000    18.900000   \n",
              "\n",
              "             t_min        t_max         prec      rel_hum  surface_pres  \\\n",
              "count  7146.000000  7146.000000  7146.000000  7146.000000   7146.000000   \n",
              "mean     24.272491    31.702776     4.679163    75.356579     99.904643   \n",
              "std       1.121527     2.898399    11.850426    11.187449      0.120383   \n",
              "min      19.530000    24.230000     0.000000    47.750000     99.460000   \n",
              "25%      23.610000    29.430000     0.030000    64.940000     99.820000   \n",
              "50%      24.380000    31.180000     0.820000    78.090000     99.910000   \n",
              "75%      25.010000    34.040000     4.817500    85.060000     99.980000   \n",
              "max      27.730000    39.010000   522.580000    94.000000    100.340000   \n",
              "\n",
              "               eto  \n",
              "count  7146.000000  \n",
              "mean      4.084266  \n",
              "std       1.022427  \n",
              "min       1.486210  \n",
              "25%       3.315672  \n",
              "50%       3.890909  \n",
              "75%       4.863376  \n",
              "max       6.570571  "
            ],
            "text/html": [
              "\n",
              "  <div id=\"df-426df3a6-f1dc-408e-80f1-fc4a7a6fa4f2\">\n",
              "    <div class=\"colab-df-container\">\n",
              "      <div>\n",
              "<style scoped>\n",
              "    .dataframe tbody tr th:only-of-type {\n",
              "        vertical-align: middle;\n",
              "    }\n",
              "\n",
              "    .dataframe tbody tr th {\n",
              "        vertical-align: top;\n",
              "    }\n",
              "\n",
              "    .dataframe thead th {\n",
              "        text-align: right;\n",
              "    }\n",
              "</style>\n",
              "<table border=\"1\" class=\"dataframe\">\n",
              "  <thead>\n",
              "    <tr style=\"text-align: right;\">\n",
              "      <th></th>\n",
              "      <th>YEAR</th>\n",
              "      <th>DOY</th>\n",
              "      <th>top_rad</th>\n",
              "      <th>surface_rad</th>\n",
              "      <th>uva-ra</th>\n",
              "      <th>t_min</th>\n",
              "      <th>t_max</th>\n",
              "      <th>prec</th>\n",
              "      <th>rel_hum</th>\n",
              "      <th>surface_pres</th>\n",
              "      <th>eto</th>\n",
              "    </tr>\n",
              "  </thead>\n",
              "  <tbody>\n",
              "    <tr>\n",
              "      <th>count</th>\n",
              "      <td>7146.000000</td>\n",
              "      <td>7146.000000</td>\n",
              "      <td>7146.000000</td>\n",
              "      <td>7146.000000</td>\n",
              "      <td>7146.000000</td>\n",
              "      <td>7146.000000</td>\n",
              "      <td>7146.000000</td>\n",
              "      <td>7146.000000</td>\n",
              "      <td>7146.000000</td>\n",
              "      <td>7146.000000</td>\n",
              "      <td>7146.000000</td>\n",
              "    </tr>\n",
              "    <tr>\n",
              "      <th>mean</th>\n",
              "      <td>2010.547019</td>\n",
              "      <td>182.890428</td>\n",
              "      <td>35.353855</td>\n",
              "      <td>18.883529</td>\n",
              "      <td>13.644184</td>\n",
              "      <td>24.272491</td>\n",
              "      <td>31.702776</td>\n",
              "      <td>4.679163</td>\n",
              "      <td>75.356579</td>\n",
              "      <td>99.904643</td>\n",
              "      <td>4.084266</td>\n",
              "    </tr>\n",
              "    <tr>\n",
              "      <th>std</th>\n",
              "      <td>5.790641</td>\n",
              "      <td>105.550799</td>\n",
              "      <td>2.461045</td>\n",
              "      <td>3.733363</td>\n",
              "      <td>2.231266</td>\n",
              "      <td>1.121527</td>\n",
              "      <td>2.898399</td>\n",
              "      <td>11.850426</td>\n",
              "      <td>11.187449</td>\n",
              "      <td>0.120383</td>\n",
              "      <td>1.022427</td>\n",
              "    </tr>\n",
              "    <tr>\n",
              "      <th>min</th>\n",
              "      <td>2001.000000</td>\n",
              "      <td>1.000000</td>\n",
              "      <td>30.600000</td>\n",
              "      <td>2.680000</td>\n",
              "      <td>2.510000</td>\n",
              "      <td>19.530000</td>\n",
              "      <td>24.230000</td>\n",
              "      <td>0.000000</td>\n",
              "      <td>47.750000</td>\n",
              "      <td>99.460000</td>\n",
              "      <td>1.486210</td>\n",
              "    </tr>\n",
              "    <tr>\n",
              "      <th>25%</th>\n",
              "      <td>2005.000000</td>\n",
              "      <td>91.000000</td>\n",
              "      <td>33.210000</td>\n",
              "      <td>16.610000</td>\n",
              "      <td>12.350000</td>\n",
              "      <td>23.610000</td>\n",
              "      <td>29.430000</td>\n",
              "      <td>0.030000</td>\n",
              "      <td>64.940000</td>\n",
              "      <td>99.820000</td>\n",
              "      <td>3.315672</td>\n",
              "    </tr>\n",
              "    <tr>\n",
              "      <th>50%</th>\n",
              "      <td>2011.000000</td>\n",
              "      <td>182.000000</td>\n",
              "      <td>36.890000</td>\n",
              "      <td>19.180000</td>\n",
              "      <td>13.800000</td>\n",
              "      <td>24.380000</td>\n",
              "      <td>31.180000</td>\n",
              "      <td>0.820000</td>\n",
              "      <td>78.090000</td>\n",
              "      <td>99.910000</td>\n",
              "      <td>3.890909</td>\n",
              "    </tr>\n",
              "    <tr>\n",
              "      <th>75%</th>\n",
              "      <td>2016.000000</td>\n",
              "      <td>274.000000</td>\n",
              "      <td>37.280000</td>\n",
              "      <td>21.450000</td>\n",
              "      <td>15.150000</td>\n",
              "      <td>25.010000</td>\n",
              "      <td>34.040000</td>\n",
              "      <td>4.817500</td>\n",
              "      <td>85.060000</td>\n",
              "      <td>99.980000</td>\n",
              "      <td>4.863376</td>\n",
              "    </tr>\n",
              "    <tr>\n",
              "      <th>max</th>\n",
              "      <td>2020.000000</td>\n",
              "      <td>366.000000</td>\n",
              "      <td>37.900000</td>\n",
              "      <td>27.810000</td>\n",
              "      <td>18.900000</td>\n",
              "      <td>27.730000</td>\n",
              "      <td>39.010000</td>\n",
              "      <td>522.580000</td>\n",
              "      <td>94.000000</td>\n",
              "      <td>100.340000</td>\n",
              "      <td>6.570571</td>\n",
              "    </tr>\n",
              "  </tbody>\n",
              "</table>\n",
              "</div>\n",
              "      <button class=\"colab-df-convert\" onclick=\"convertToInteractive('df-426df3a6-f1dc-408e-80f1-fc4a7a6fa4f2')\"\n",
              "              title=\"Convert this dataframe to an interactive table.\"\n",
              "              style=\"display:none;\">\n",
              "        \n",
              "  <svg xmlns=\"http://www.w3.org/2000/svg\" height=\"24px\"viewBox=\"0 0 24 24\"\n",
              "       width=\"24px\">\n",
              "    <path d=\"M0 0h24v24H0V0z\" fill=\"none\"/>\n",
              "    <path d=\"M18.56 5.44l.94 2.06.94-2.06 2.06-.94-2.06-.94-.94-2.06-.94 2.06-2.06.94zm-11 1L8.5 8.5l.94-2.06 2.06-.94-2.06-.94L8.5 2.5l-.94 2.06-2.06.94zm10 10l.94 2.06.94-2.06 2.06-.94-2.06-.94-.94-2.06-.94 2.06-2.06.94z\"/><path d=\"M17.41 7.96l-1.37-1.37c-.4-.4-.92-.59-1.43-.59-.52 0-1.04.2-1.43.59L10.3 9.45l-7.72 7.72c-.78.78-.78 2.05 0 2.83L4 21.41c.39.39.9.59 1.41.59.51 0 1.02-.2 1.41-.59l7.78-7.78 2.81-2.81c.8-.78.8-2.07 0-2.86zM5.41 20L4 18.59l7.72-7.72 1.47 1.35L5.41 20z\"/>\n",
              "  </svg>\n",
              "      </button>\n",
              "      \n",
              "  <style>\n",
              "    .colab-df-container {\n",
              "      display:flex;\n",
              "      flex-wrap:wrap;\n",
              "      gap: 12px;\n",
              "    }\n",
              "\n",
              "    .colab-df-convert {\n",
              "      background-color: #E8F0FE;\n",
              "      border: none;\n",
              "      border-radius: 50%;\n",
              "      cursor: pointer;\n",
              "      display: none;\n",
              "      fill: #1967D2;\n",
              "      height: 32px;\n",
              "      padding: 0 0 0 0;\n",
              "      width: 32px;\n",
              "    }\n",
              "\n",
              "    .colab-df-convert:hover {\n",
              "      background-color: #E2EBFA;\n",
              "      box-shadow: 0px 1px 2px rgba(60, 64, 67, 0.3), 0px 1px 3px 1px rgba(60, 64, 67, 0.15);\n",
              "      fill: #174EA6;\n",
              "    }\n",
              "\n",
              "    [theme=dark] .colab-df-convert {\n",
              "      background-color: #3B4455;\n",
              "      fill: #D2E3FC;\n",
              "    }\n",
              "\n",
              "    [theme=dark] .colab-df-convert:hover {\n",
              "      background-color: #434B5C;\n",
              "      box-shadow: 0px 1px 3px 1px rgba(0, 0, 0, 0.15);\n",
              "      filter: drop-shadow(0px 1px 2px rgba(0, 0, 0, 0.3));\n",
              "      fill: #FFFFFF;\n",
              "    }\n",
              "  </style>\n",
              "\n",
              "      <script>\n",
              "        const buttonEl =\n",
              "          document.querySelector('#df-426df3a6-f1dc-408e-80f1-fc4a7a6fa4f2 button.colab-df-convert');\n",
              "        buttonEl.style.display =\n",
              "          google.colab.kernel.accessAllowed ? 'block' : 'none';\n",
              "\n",
              "        async function convertToInteractive(key) {\n",
              "          const element = document.querySelector('#df-426df3a6-f1dc-408e-80f1-fc4a7a6fa4f2');\n",
              "          const dataTable =\n",
              "            await google.colab.kernel.invokeFunction('convertToInteractive',\n",
              "                                                     [key], {});\n",
              "          if (!dataTable) return;\n",
              "\n",
              "          const docLinkHtml = 'Like what you see? Visit the ' +\n",
              "            '<a target=\"_blank\" href=https://colab.research.google.com/notebooks/data_table.ipynb>data table notebook</a>'\n",
              "            + ' to learn more about interactive tables.';\n",
              "          element.innerHTML = '';\n",
              "          dataTable['output_type'] = 'display_data';\n",
              "          await google.colab.output.renderOutput(dataTable, element);\n",
              "          const docLink = document.createElement('div');\n",
              "          docLink.innerHTML = docLinkHtml;\n",
              "          element.appendChild(docLink);\n",
              "        }\n",
              "      </script>\n",
              "    </div>\n",
              "  </div>\n",
              "  "
            ]
          },
          "metadata": {},
          "execution_count": 4
        }
      ],
      "source": [
        "\n",
        "#limpieza y acomodo de los datos\n",
        "df= df.dropna() # me permite borrar valores vacios \n",
        "df= df[df['top_rad'] != 0]\n",
        "df= df[df['surface_rad'] != 0]\n",
        "df= df[df['uva-ra'] != 0]\n",
        "df= df[df['t_min'] != 0]\n",
        "df= df[df['t_max'] != 0]\n",
        "#df= df[df['prec'] != 0] ==> atención es posible que tengamos datos de precipitación en cero (no lluvia ese día) por lo que se acepta ese valor. \n",
        "df= df[df['rel_hum'] != 0]\n",
        "df= df[df['surface_pres'] != 0]\n",
        "df= df[df['eto'] != 0]\n",
        "\n",
        "print(df.shape)\n",
        "\n",
        "\n",
        "df.describe()"
      ]
    },
    {
      "cell_type": "markdown",
      "metadata": {
        "id": "QkrnBDLIrWOA"
      },
      "source": [
        "#### Se observa que en la columna de  precipitación hubo días de 500 mm o más, estos son eventos climáticos extremos, los cuales vamos a eliminar y  solo aceptaremos días con precipitaciones de no más  50 mm \n",
        "\n",
        "**se uso 50 mm como criterio base de infiltración, el resto del agua se constituye en escorrentía segun los balances hídricos**"
      ]
    },
    {
      "cell_type": "code",
      "execution_count": null,
      "metadata": {
        "colab": {
          "base_uri": "https://localhost:8080/"
        },
        "id": "nWAJXZPjrWOB",
        "outputId": "414dd9d3-c297-45c2-d70d-9a303a595c7b"
      },
      "outputs": [
        {
          "output_type": "stream",
          "name": "stdout",
          "text": [
            "(7099, 11)\n"
          ]
        }
      ],
      "source": [
        "# depuración de los outliears  \n",
        "df=df[df.prec <= 50]\n",
        "print (df.shape)"
      ]
    },
    {
      "cell_type": "markdown",
      "metadata": {
        "id": "IeUGSuJ1rWOB"
      },
      "source": [
        "\n",
        "## Paso 4. se realizan gráficos exploratorios"
      ]
    },
    {
      "cell_type": "code",
      "execution_count": null,
      "metadata": {
        "id": "xesZ_4wQrWOC"
      },
      "outputs": [],
      "source": [
        "# Usando Seaborn generamos un para de dispersión entre factores para observar relaciones\n",
        "#sns.pairplot(df);"
      ]
    },
    {
      "cell_type": "code",
      "execution_count": null,
      "metadata": {
        "colab": {
          "base_uri": "https://localhost:8080/",
          "height": 53
        },
        "id": "2oIGPHdnrWOC",
        "outputId": "6ec9097a-bfb6-42a9-8592-c51395b1f4f9"
      },
      "outputs": [
        {
          "output_type": "execute_result",
          "data": {
            "text/plain": [
              "'\\ndef correlation_heatmap(df):\\n    _,ax=plt.subplots(figsize=(15,10))\\n    colormap=sns.diverging_palette(220,10,as_cmap=True)\\n    sns.heatmap(df.corr(),annot=True,cmap=colormap)\\n    \\ncorrelation_heatmap(df)\\n'"
            ],
            "application/vnd.google.colaboratory.intrinsic+json": {
              "type": "string"
            }
          },
          "metadata": {},
          "execution_count": 7
        }
      ],
      "source": [
        "# de forma similar contruimos un mapa de calor y observamos las correlaciones entre los factores \n",
        "\"\"\"\n",
        "def correlation_heatmap(df):\n",
        "    _,ax=plt.subplots(figsize=(15,10))\n",
        "    colormap=sns.diverging_palette(220,10,as_cmap=True)\n",
        "    sns.heatmap(df.corr(),annot=True,cmap=colormap)\n",
        "    \n",
        "correlation_heatmap(df)\n",
        "\"\"\""
      ]
    },
    {
      "cell_type": "markdown",
      "metadata": {
        "id": "vLMkfuJ3rWOD"
      },
      "source": [
        "####  Se concluye de los gráficos anteriores que:\n",
        "- la evapotranspiración está altamente influenciada por la radiación y la temperatura principalmente, \n",
        "- los otros parámetros climáticos con precipitación, humedad relativa y presión barométrica no influyen en la evapotranspiración \n",
        "    \n",
        " #### A Partir de lo anterior definimos gráficos que visualicen las relaciones entre radiación y temperatura vrs ETO "
      ]
    },
    {
      "cell_type": "markdown",
      "metadata": {
        "id": "3SUrakYawddd"
      },
      "source": [
        "## Paso 5. Se establece una relación gráfica entre los factores de temperatura y radiación con respecto a ETO.\n"
      ]
    },
    {
      "cell_type": "code",
      "execution_count": null,
      "metadata": {
        "colab": {
          "base_uri": "https://localhost:8080/",
          "height": 622
        },
        "id": "NzIjvivArWOD",
        "outputId": "80cbfce0-40c7-49d8-849a-cde7ad4207bf"
      },
      "outputs": [
        {
          "output_type": "display_data",
          "data": {
            "text/plain": [
              "<Figure size 1152x720 with 5 Axes>"
            ],
            "image/png": "[encoded data removed]"
          },
          "metadata": {
            "needs_background": "light"
          }
        }
      ],
      "source": [
        "fig = plt.figure(figsize=(16,10))\n",
        "\n",
        "#Grafico de relación Temperatura mínima vrs ETO \n",
        "plot1 = fig.add_subplot(231)\n",
        "A = plt.scatter(df['t_min'],df['eto'], color='orange',s=1)\n",
        "plt.xlabel('T_min °C ')\n",
        "plt.ylabel('ETO mm')\n",
        "plt.title('Relación T_Min vrs ETO')\n",
        "\n",
        "#Grafico de relación Temperatura máxima vrs ETO \n",
        "plot1 = fig.add_subplot(232)\n",
        "A = plt.scatter(df['t_max'],df['eto'], color='red',s=1)\n",
        "plt.xlabel('T_max °C ')\n",
        "plt.ylabel('ETO mm')\n",
        "plt.title('Relación T_Max vrs ETO')\n",
        "\n",
        "#Grafico de Radiación extraterrestre mínima vrs ETO \n",
        "plot1 = fig.add_subplot(234)\n",
        "A = plt.scatter(df['top_rad'],df['eto'], color='blue',s=1)\n",
        "plt.xlabel('Radiación Extraterrestre (MJ/m2) ')\n",
        "plt.ylabel('ETO mm')\n",
        "plt.title('Relación Radiación Extraterrestre vrs ETO')\n",
        "\n",
        "#Grafico de Radiación en la superficie  vrs ETO \n",
        "plot1 = fig.add_subplot(235)\n",
        "A = plt.scatter(df['surface_rad'],df['eto'], color='blue',s=1)\n",
        "plt.xlabel('Radiación Superficie (MJ/m2) ')\n",
        "plt.ylabel('ETO mm')\n",
        "plt.title('Relación Radiación superficial vrs ETO')\n",
        "\n",
        "\n",
        "#Grafico de Radiación ultravioleta  vrs ETO \n",
        "plot1 = fig.add_subplot(236)\n",
        "A = plt.scatter(df['uva-ra'],df['eto'], color='grey',s=1)\n",
        "plt.xlabel('Ultravioleta (W/m2) ')\n",
        "plt.ylabel('ETO mm')\n",
        "plt.title('Relación Ultravioleta vrs ETO')\n",
        "\n",
        "\n",
        "\n",
        "plt.show()\n"
      ]
    },
    {
      "cell_type": "markdown",
      "metadata": {
        "id": "y7ISYycorWOE"
      },
      "source": [
        "#### Interesante que de forma específica se encuentra que la EVAPOTRANPIRACION esta directamente influenciada por todo el Data Set por tres parámetros climáticos como lo son:\n",
        "- Temperatura máximas del día \n",
        "- Radiación en la superficie "
      ]
    },
    {
      "cell_type": "markdown",
      "metadata": {
        "id": "B6O3Uq6bw7Rl"
      },
      "source": [
        "## Paso 6. Se grafíca el comportamiento anual de la evapotranspiración vrs temperatura y radiación. "
      ]
    },
    {
      "cell_type": "code",
      "execution_count": null,
      "metadata": {
        "colab": {
          "base_uri": "https://localhost:8080/"
        },
        "id": "L2mER2N8rWOE",
        "outputId": "87f7ed8f-adb4-4dc7-fa5a-cc8207e20d4e"
      },
      "outputs": [
        {
          "output_type": "stream",
          "name": "stdout",
          "text": [
            "(366, 10)\n"
          ]
        }
      ],
      "source": [
        "# Ordenamos los datos las medias de los datos por día del año y vemos como se comporta la evapotrasnpiración en función de los variables radiación y temperatura \n",
        "\n",
        "df_doy=df.groupby(\"DOY\").mean() \n",
        "print (df_doy.shape)\n",
        "lst = [i for i in range(1,366+1)]\n",
        "    "
      ]
    },
    {
      "cell_type": "code",
      "execution_count": null,
      "metadata": {
        "colab": {
          "base_uri": "https://localhost:8080/",
          "height": 297
        },
        "id": "oBNCT6KFrWOF",
        "outputId": "aa89c00a-201a-4267-f7ce-ec84c862e42c"
      },
      "outputs": [
        {
          "output_type": "display_data",
          "data": {
            "text/plain": [
              "<Figure size 576x288 with 2 Axes>"
            ],
            "image/png": "[encoded data removed]"
          },
          "metadata": {
            "needs_background": "light"
          }
        }
      ],
      "source": [
        "# observamos el comportamiento de la temperatura \n",
        "\n",
        "fig, ax = plt.subplots(figsize=(8,4))\n",
        "ax.set_ylabel('ETO (mm)')  # we already handled the x-label with ax1\n",
        "rects3= ax.bar(lst,df_doy['eto'], color='blue',\n",
        "        label='ETO (mm)')\n",
        "ax.set_xlabel('Día del año')\n",
        "ax.grid(True)\n",
        "ax.legend(loc=\"upper left\")\n",
        "\n",
        "ax1 = ax.twinx()  # instantiate a second axes that shares the same x-axis\n",
        "\n",
        "ax1.set_ylabel('Evapotranspiraciones diarias (mm)')\n",
        "rects1= ax1.plot(lst, df_doy['t_min'], color='orange',\n",
        "        label='Temperatura mínima ')\n",
        "rects1= ax1.plot(lst, df_doy['t_max'], color='red',\n",
        "        label='Temperatura máxima ')\n",
        "\n",
        "\n",
        "ax1.legend(loc=\"upper right\")\n",
        "fig.tight_layout()  # otherwise the right y-label is slightly clipped\n",
        "\n",
        "plt.show()\n"
      ]
    },
    {
      "cell_type": "markdown",
      "metadata": {
        "id": "iF804pMirWOF"
      },
      "source": [
        "#### Se concluye que existe una relación lineal entre la temperatura máxima y la evapotranspiración \n",
        "\n",
        "Este dato es muy importante para cuando construyamos el vector con los pesos de cada factor \n"
      ]
    },
    {
      "cell_type": "code",
      "execution_count": null,
      "metadata": {
        "colab": {
          "base_uri": "https://localhost:8080/",
          "height": 297
        },
        "id": "I7p2OkejrWOF",
        "outputId": "60a0bcf6-f4de-40b2-a62e-ad0c4988fccd"
      },
      "outputs": [
        {
          "output_type": "display_data",
          "data": {
            "text/plain": [
              "<Figure size 576x288 with 2 Axes>"
            ],
            "image/png": "[encoded data removed]"
          },
          "metadata": {
            "needs_background": "light"
          }
        }
      ],
      "source": [
        "# observamos el comportamiento de la radiación  \n",
        "\n",
        "fig, ax = plt.subplots(figsize=(8,4))\n",
        "ax.set_ylabel('ETO (mm)')  # we already handled the x-label with ax1\n",
        "rects3= ax.bar(lst,df_doy['eto'], color='blue',\n",
        "        label='ETO (mm)')\n",
        "ax.set_xlabel('Día del año')\n",
        "ax.grid(True)\n",
        "ax.legend(loc=\"upper left\")\n",
        "\n",
        "ax1 = ax.twinx()  # instantiate a second axes that shares the same x-axis\n",
        "\n",
        "ax1.set_ylabel('Radiación promedio en la superficie (MJ/m2)')\n",
        "rects1= ax1.plot(lst, df_doy['surface_rad'], color='orange',\n",
        "        label='Radiación ')\n",
        "\n",
        "ax1.legend(loc=\"upper right\")\n",
        "fig.tight_layout()  # otherwise the right y-label is slightly clipped\n",
        "\n",
        "plt.show()"
      ]
    },
    {
      "cell_type": "markdown",
      "source": [
        "# Aprendizaje Supervisado"
      ],
      "metadata": {
        "id": "2EjzG0967ekO"
      }
    },
    {
      "cell_type": "markdown",
      "source": [
        "##Paso 1. Definicion de funciones para poder analizar el DataSet con diferentes enfoques usando varios metodos"
      ],
      "metadata": {
        "id": "RIs99FV787I7"
      }
    },
    {
      "cell_type": "code",
      "source": [
        "#Funcion para division de Datos para Training and Testing\n",
        "def Data_Segregation(features,targets, x=5, verification = False):\n",
        "  from sklearn.model_selection import train_test_split\n",
        "  X_train, X_test, y_train, y_test = train_test_split(features,targets, random_state=x) \n",
        "\n",
        "  #Verificamos los tamaños:\n",
        "  if verification:\n",
        "    print(\"Segregation verification, sizes:\")\n",
        "    print(\"X_train= \",X_train.shape)\n",
        "    print(\"X_test= \",X_test.shape)\n",
        "    print(\"y_train= \",y_train.shape)\n",
        "    print(\"y_test= \",y_test.shape)\n",
        "\n",
        "  return X_train, X_test, y_train, y_test\n"
      ],
      "metadata": {
        "id": "j83HcNEd9DQl"
      },
      "execution_count": null,
      "outputs": []
    },
    {
      "cell_type": "code",
      "source": [
        "#Funcion para correr un modelo lineal \n",
        "def Linear_Regression(X_train, X_test, y_train, y_test, showScore = False, positiveBool=False):\n",
        "  from sklearn.linear_model import LinearRegression\n",
        "  lr=LinearRegression(positive = positiveBool).fit(X_train,y_train)\n",
        "\n",
        "  trainScore = lr.score(X_train,y_train)\n",
        "  testScore = lr.score(X_test,y_test)                      \n",
        "  if showScore:\n",
        "    print(\"Train score= \", trainScore)\n",
        "    print(\"Test score= \", testScore)\n",
        "  \n",
        "  return trainScore, testScore\n"
      ],
      "metadata": {
        "id": "vg-_mVvU_Vws"
      },
      "execution_count": null,
      "outputs": []
    },
    {
      "cell_type": "code",
      "source": [
        "#Funcion para correr modelo lineal Ridge\n",
        "def LRRidge(X_train, X_test, y_train, y_test, showScore = False, positiveBool=False, alphaNum = 1.0):\n",
        "  from sklearn import linear_model\n",
        "  reg = linear_model.Ridge(alpha=alphaNum, positive = positiveBool).fit(X_train,y_train)\n",
        "  \n",
        "  trainScore = reg.score(X_train,y_train)\n",
        "  testScore = reg.score(X_test,y_test)                      \n",
        "  if showScore:\n",
        "    print(\"Train score= \", trainScore)\n",
        "    print(\"Test score= \", testScore)\n",
        "  \n",
        "  return trainScore, testScore"
      ],
      "metadata": {
        "id": "-uV3xv1YkHBh"
      },
      "execution_count": null,
      "outputs": []
    },
    {
      "cell_type": "code",
      "source": [
        "#Funcion para correr SVM\n",
        "def SVMachine(X_train, X_test, y_train, y_test, showScore = False, kernelStr=\"rbf\", Creg=1.0, gammaStr=\"scale\"):\n",
        "  from sklearn.svm import SVR\n",
        "  LinearSVR = SVR(kernel = kernelStr, C = Creg, gamma = gammaStr)\n",
        "\n",
        "  #svr=LinearSVR().fit(X_train,y_train)\n",
        "  LinearSVR.fit(X_train,y_train)\n",
        "\n",
        "  trainScore = LinearSVR.score(X_train,y_train)\n",
        "  testScore = LinearSVR.score(X_test,y_test)    \n",
        "\n",
        "  if showScore:\n",
        "    print(\"Train score= \", trainScore)\n",
        "    print(\"Test score= \", testScore)\n",
        "\n",
        "  return trainScore, testScore\n"
      ],
      "metadata": {
        "id": "2Dq1OxYkC4WA"
      },
      "execution_count": null,
      "outputs": []
    },
    {
      "cell_type": "code",
      "source": [
        "#Funcion para correr Nearest Neighbors Regression\n",
        "def kNNRegression(X_train, X_test, y_train, y_test, showScore = False, n=5,weightsStr=\"uniform\", algorithmStr=\"auto\"):\n",
        "  from sklearn.neighbors import KNeighborsRegressor\n",
        "  neigh = KNeighborsRegressor(n_neighbors=n,weights=weightsStr, algorithm=algorithmStr)\n",
        "  neigh.fit(X_train, y_train)\n",
        "\n",
        "  trainScore = neigh.score(X_train,y_train)\n",
        "  testScore = neigh.score(X_test,y_test) \n",
        "\n",
        "  if showScore:\n",
        "    print(\"Train score= \", trainScore)\n",
        "    print(\"Test score= \", testScore)\n",
        "\n",
        "  return trainScore, testScore\n"
      ],
      "metadata": {
        "id": "l9QyoP7uP-dS"
      },
      "execution_count": null,
      "outputs": []
    },
    {
      "cell_type": "code",
      "source": [
        "#Funcion para usar DecisionTreeRegressor\n",
        "\n",
        "def DTRegressor (X_train, X_test, y_train, y_test, showScore = False, showClassifier = False, n=100, criterionStr = \"squared_error\", depth=None):\n",
        "  from sklearn.ensemble import RandomForestRegressor\n",
        "  reg_forest = RandomForestRegressor(n_estimators = n, criterion = criterionStr, max_depth = depth)\n",
        "  reg_forest = reg_forest.fit(X_train, y_train)\n",
        "\n",
        "  trainScore = reg_forest.score(X_train,y_train)\n",
        "  testScore = reg_forest.score(X_test,y_test) \n",
        "\n",
        "  if showScore:\n",
        "    print(\"Train score= \", trainScore)\n",
        "    print(\"Test score= \", testScore)\n",
        "\n",
        "  if showClassifier:\n",
        "    print(\"Showing importances features classification:\")\n",
        "    from sklearn.ensemble import RandomForestClassifier\n",
        "    importances = pd.DataFrame({'feature' : X_train.columns, 'importance':reg_forest.feature_importances_})\n",
        "    importances = importances.sort_values('importance', ascending = False).set_index('feature')\n",
        "    from matplotlib import pyplot as plt\n",
        "    plt.style.use('ggplot')\n",
        "    importances.plot.bar()\n",
        "\n",
        "  return trainScore, testScore"
      ],
      "metadata": {
        "id": "Vea1tshWVICr"
      },
      "execution_count": null,
      "outputs": []
    },
    {
      "cell_type": "markdown",
      "metadata": {
        "id": "RNmQCyXFrWOG"
      },
      "source": [
        "\n",
        "## Paso 2. Seleccion de columnas, division de los datos para entrenamiento y prueba, y definicion de Casos.\n",
        "\n"
      ]
    },
    {
      "cell_type": "markdown",
      "source": [
        "**Descripcion de la dinamica:**\n",
        "Se usara el mismo DataSet anlizado en el pre-procesado, solo que se dividiran en diferentes casos, para poder analizar los datos con diferentes herramientas y tambien ver las diferentes relaciones entre las variables:\n",
        "\n",
        "\n",
        "\n",
        "**Caso 1: Se usaran las radiciones y temperaturas para poder predecir el ETO**\n",
        "- Features: 'top_rad','surface_rad','t_max'\n",
        "- Targets: 'eto'\n",
        "\n",
        "El objetivo de este caso es verificar la relacion lineal encontrada en el pre-procesado entre la temperatura maxima y el ETO\n",
        "\n",
        "**Caso 2: Se usaran las demas caracteristicas, excluyendo ETO, para poder predecir la temperatura maxima**\n",
        "- Features: 'top_rad','surface_rad','uva-ra','rel_hum','surface_pres','prec'\n",
        "- Targets: 't_max'\n",
        "\n",
        "El objetivo de este segundo caso es entender la relacion de las demas caracteristicas o variables con la temperatura maxima, ya que al parecer es la predominante al relacionarse con el ETO"
      ],
      "metadata": {
        "id": "XkNsY_HGbbTF"
      }
    },
    {
      "cell_type": "code",
      "execution_count": null,
      "metadata": {
        "colab": {
          "base_uri": "https://localhost:8080/"
        },
        "id": "DoOQ3Nd4byEr",
        "outputId": "1cdbcbcd-829a-478e-c646-4edafc85a755"
      },
      "outputs": [
        {
          "output_type": "execute_result",
          "data": {
            "text/plain": [
              "(7099, 8)"
            ]
          },
          "metadata": {},
          "execution_count": 18
        }
      ],
      "source": [
        "#Seleccioamos solo las columnas a usar\n",
        "#Se excluye temperatura minima, basado en resultados del pre-procesado\n",
        "\n",
        "cols_to_use = ['top_rad','surface_rad','uva-ra','eto','rel_hum','surface_pres','prec','t_max']\n",
        "df = df[cols_to_use]\n",
        "df.shape\n"
      ]
    },
    {
      "cell_type": "markdown",
      "source": [
        "##Paso 3: Caso 1. Aplicacion de los difernetes metodos de regresion"
      ],
      "metadata": {
        "id": "weT8B6u7e7si"
      }
    },
    {
      "cell_type": "markdown",
      "source": [
        "Definicion de Features y Targets, con la separacion de los Datos para Training & Testing"
      ],
      "metadata": {
        "id": "iQL9mH4cguJ8"
      }
    },
    {
      "cell_type": "code",
      "execution_count": null,
      "metadata": {
        "id": "BwxAYbJ3c13K"
      },
      "outputs": [],
      "source": [
        "#Definicion de features o targets, segun caso\n",
        "\n",
        "features = df[['top_rad','surface_rad','t_max']]\n",
        "targets = df['eto']\n"
      ]
    },
    {
      "cell_type": "code",
      "execution_count": null,
      "metadata": {
        "colab": {
          "base_uri": "https://localhost:8080/"
        },
        "id": "eTbp432zdTaH",
        "outputId": "673cfef6-8016-4ee5-cde8-d0673e95a453"
      },
      "outputs": [
        {
          "output_type": "stream",
          "name": "stdout",
          "text": [
            "Segregation verification, sizes:\n",
            "X_train=  (5324, 3)\n",
            "X_test=  (1775, 3)\n",
            "y_train=  (5324,)\n",
            "y_test=  (1775,)\n"
          ]
        }
      ],
      "source": [
        "#Uso de funcion Data_Segregation, con un random_state de 13 y la visualizacion de tamanos activa\n",
        "X_train, X_test, y_train, y_test = Data_Segregation (features,targets, 13, True)"
      ]
    },
    {
      "cell_type": "markdown",
      "metadata": {
        "id": "v2NUcK38kj49"
      },
      "source": [
        "### Aplicacion de los modelos de regresion "
      ]
    },
    {
      "cell_type": "code",
      "source": [
        "#Creacion de un DataFrame para almacenar los diferentes Scores \n",
        "import pandas as pd\n",
        "\n",
        "#Definicion de columnas\n",
        "columnsSummary = ['Model', 'Training Score', 'Testing Score', 'Details']\n",
        "\n",
        "# Creacion del Data Frame vacio\n",
        "dfScores = pd.DataFrame(columns = columnsSummary)\n"
      ],
      "metadata": {
        "id": "CzOUNfDzBPt8"
      },
      "execution_count": null,
      "outputs": []
    },
    {
      "cell_type": "markdown",
      "source": [
        "####Modelos Lineales"
      ],
      "metadata": {
        "id": "20RlCqkMg8s3"
      }
    },
    {
      "cell_type": "code",
      "source": [
        "#Uso de funcion Linear_Regression, con visualizacion de Scores y opcion de Non-negative least squares en el ultimo parametro de la funcion\n",
        "#(\"When set to True, forces the coefficients to be positive\")\n",
        "\n",
        "print(\"Ordinary Least Squares\")\n",
        "a, b = Linear_Regression(X_train, X_test, y_train, y_test, True, False)\n",
        "dfScores = dfScores.append({'Model': \"Ordinary Least Squares\", 'Training Score' : a, 'Testing Score' : b, 'Details': \"N/A\"}, ignore_index = True)\n",
        "\n",
        "print(\"\\n\")\n",
        "print(\"Ordinary Least Squares and Non-negative least squares\")\n",
        "a, b = Linear_Regression(X_train, X_test, y_train, y_test, True, True)\n",
        "dfScores = dfScores.append({'Model': \"Ordinary Least Squares\", 'Training Score' : a, 'Testing Score' : b, 'Details': \"Non-negative least squares\"}, ignore_index = True)"
      ],
      "metadata": {
        "colab": {
          "base_uri": "https://localhost:8080/"
        },
        "id": "tGeAX3WLBzsZ",
        "outputId": "578bb012-b6bd-44c1-acea-1d1c8877d74a"
      },
      "execution_count": null,
      "outputs": [
        {
          "output_type": "stream",
          "name": "stdout",
          "text": [
            "Ordinary Least Squares\n",
            "Train score=  0.9632280104173241\n",
            "Test score=  0.9623943370092025\n",
            "\n",
            "\n",
            "Ordinary Least Squares and Non-negative least squares\n",
            "Train score=  0.9632280104173241\n",
            "Test score=  0.9623943370092024\n"
          ]
        }
      ]
    },
    {
      "cell_type": "code",
      "source": [
        "#Uso de funcion LRRidge, con visualizacion de Scores, opcion de Non-negative least squares y opcion de Regularization strength (alpha)\n",
        "\n",
        "print(\"Ridge regression and alpha equal to 0.5\")\n",
        "a, b = LRRidge(X_train, X_test, y_train, y_test, True, False, 0.5)\n",
        "dfScores = dfScores.append({'Model': \"Ridge regression\", 'Training Score' : a, 'Testing Score' : b, 'Details': \"Alpha = 0.5\"}, ignore_index = True)\n",
        "print(\"\\n\")\n",
        "print(\"Ridge regression and alpha equal to 0.1\")\n",
        "a, b = LRRidge(X_train, X_test, y_train, y_test, True, False, 1)\n",
        "dfScores = dfScores.append({'Model': \"Ridge regression\", 'Training Score' : a, 'Testing Score' : b, 'Details': \"Alpha = 1\"}, ignore_index = True)\n",
        "print(\"\\n\")\n",
        "print(\"Ridge regression, alpha equal to 0.5 and Non-negative least squares\")\n",
        "a, b = LRRidge(X_train, X_test, y_train, y_test, True, True, 0.5)\n",
        "dfScores = dfScores.append({'Model': \"Ridge regression\", 'Training Score' : a, 'Testing Score' : b, 'Details': \"Alpha = 0.5 & Non-negative least squares\"}, ignore_index = True)\n",
        "print(\"\\n\")\n",
        "print(\"Ridge regression alpha equal to 0.1 and Non-negative least squares\")\n",
        "a, b = LRRidge(X_train, X_test, y_train, y_test, True, True, 1)\n",
        "dfScores = dfScores.append({'Model': \"Ridge regression\", 'Training Score' : a, 'Testing Score' : b, 'Details': \"Alpha = 1 & Non-negative least squares\"}, ignore_index = True)\n",
        "print(\"\\n\")"
      ],
      "metadata": {
        "colab": {
          "base_uri": "https://localhost:8080/"
        },
        "id": "PnXFi8TWk_yP",
        "outputId": "af4c50a1-fb07-4587-d355-4ae0e7657ff9"
      },
      "execution_count": null,
      "outputs": [
        {
          "output_type": "stream",
          "name": "stdout",
          "text": [
            "Ridge regression and alpha equal to 0.5\n",
            "Train score=  0.9632280102568296\n",
            "Test score=  0.962394543465349\n",
            "\n",
            "\n",
            "Ridge regression and alpha equal to 0.1\n",
            "Train score=  0.9632280097753796\n",
            "Test score=  0.9623947495878895\n",
            "\n",
            "\n",
            "Ridge regression, alpha equal to 0.5 and Non-negative least squares\n",
            "Train score=  0.9632280102580119\n",
            "Test score=  0.9623945428050322\n",
            "\n",
            "\n",
            "Ridge regression alpha equal to 0.1 and Non-negative least squares\n",
            "Train score=  0.9632280097777463\n",
            "Test score=  0.9623947489289014\n",
            "\n",
            "\n"
          ]
        }
      ]
    },
    {
      "cell_type": "markdown",
      "metadata": {
        "id": "2XxkzfzXkuAB"
      },
      "source": [
        "#### Modelo Maquina de Soporte Vectorial "
      ]
    },
    {
      "cell_type": "code",
      "execution_count": null,
      "metadata": {
        "colab": {
          "base_uri": "https://localhost:8080/"
        },
        "id": "hU8riPB9l66m",
        "outputId": "b8062a74-ebbe-40e7-939f-d65c13232fdb"
      },
      "outputs": [
        {
          "output_type": "stream",
          "name": "stdout",
          "text": [
            "SVM with kernel = rbf, C = 1 and gamma = auto\n",
            "Train score=  0.975877591751733\n",
            "Test score=  0.9676250537503345\n",
            "\n",
            "\n",
            "SVM with kernel = rbf, C = 10 and gamma = auto\n",
            "Train score=  0.977775715539438\n",
            "Test score=  0.9660784213425844\n",
            "\n",
            "\n",
            "SVM with kernel = linear, C = 1 and gamma = auto\n",
            "Train score=  0.9632104555007702\n",
            "Test score=  0.9623187496119315\n",
            "\n",
            "\n",
            "SVM with kernel = linear, C = 10 and gamma = auto\n",
            "Train score=  0.9632145196097815\n",
            "Test score=  0.9623425260443068\n",
            "\n",
            "\n",
            "SVM with kernel = linear, C = 1 and gamma = scale\n",
            "Train score=  0.9632104555007702\n",
            "Test score=  0.9623187496119315\n",
            "\n",
            "\n"
          ]
        }
      ],
      "source": [
        "#Uso de la funcion SVMachine con visualizacion de Scores, definicion de Kernel, C y gamma\n",
        "print(\"SVM with kernel = rbf, C = 1 and gamma = auto\")\n",
        "a, b = SVMachine(X_train, X_test, y_train, y_test, True, \"rbf\", 1, \"auto\")\n",
        "dfScores = dfScores.append({'Model': \"SVM\", 'Training Score' : a, 'Testing Score' : b, 'Details': \"kernel = rbf, C = 1 and gamma = auto\"}, ignore_index = True)\n",
        "print(\"\\n\")\n",
        "print(\"SVM with kernel = rbf, C = 10 and gamma = auto\")\n",
        "a, b = SVMachine(X_train, X_test, y_train, y_test, True, \"rbf\", 10, \"auto\")\n",
        "dfScores = dfScores.append({'Model': \"SVM\", 'Training Score' : a, 'Testing Score' : b, 'Details': \"kernel = rbf, C = 10 and gamma = auto\"}, ignore_index = True)\n",
        "print(\"\\n\")\n",
        "print(\"SVM with kernel = linear, C = 1 and gamma = auto\")\n",
        "a, b = SVMachine(X_train, X_test, y_train, y_test, True, \"linear\", 1, \"auto\")\n",
        "dfScores = dfScores.append({'Model': \"SVM\", 'Training Score' : a, 'Testing Score' : b, 'Details': \"kernel = linear, C = 1 and gamma = auto\"}, ignore_index = True)\n",
        "print(\"\\n\")\n",
        "print(\"SVM with kernel = linear, C = 10 and gamma = auto\")\n",
        "a, b = SVMachine(X_train, X_test, y_train, y_test, True, \"linear\", 10, \"auto\")\n",
        "dfScores = dfScores.append({'Model': \"SVM\", 'Training Score' : a, 'Testing Score' : b, 'Details': \"kernel = linear, C = 10 and gamma = auto\"}, ignore_index = True)\n",
        "print(\"\\n\")\n",
        "print(\"SVM with kernel = linear, C = 1 and gamma = scale\")\n",
        "a, b = SVMachine(X_train, X_test, y_train, y_test, True, \"linear\", 1, \"scale\")\n",
        "dfScores = dfScores.append({'Model': \"SVM\", 'Training Score' : a, 'Testing Score' : b, 'Details': \"kernel = linear, C = 10 and gamma = scale\"}, ignore_index = True)\n",
        "print(\"\\n\")"
      ]
    },
    {
      "cell_type": "markdown",
      "metadata": {
        "id": "PAvsmTbKvdPc"
      },
      "source": [
        "#### KNN KNeighbors Regressor "
      ]
    },
    {
      "cell_type": "code",
      "source": [
        "#Uso de la funcion kNNRegression con visualizacion de Scores, definicion de neighbors, weights y algorithm\n",
        "\n",
        "#kNNRegression(X_train, X_test, y_train, y_test, showScore, n, weights, algorithm)\n",
        "#n: Number of neighbors to use\n",
        "#weights = 'uniform', assigns equal weights to all points. \n",
        "#weights = 'distance' assigns weights proportional to the inverse of the distance from the query point\n",
        "#algorithm{‘auto’, ‘ball_tree’, ‘kd_tree’, ‘brute’}, default=’auto’\n",
        "#Algorithm used to compute the nearest neighbors\n",
        "\n",
        "print(\"KNN regression with neighbors = 2, weights = uniform and  algorithm = auto\")\n",
        "a, b = kNNRegression(X_train, X_test, y_train, y_test, True, 2, \"uniform\", \"auto\")\n",
        "dfScores = dfScores.append({'Model': \"KNN\", 'Training Score' : a, 'Testing Score' : b, 'Details': \"neighbors = 2, weights = uniform and  algorithm = auto\"}, ignore_index = True)\n",
        "print(\"\\n\")\n",
        "print(\"KNN regression with neighbors = 200, weights = uniform and  algorithm = auto\")\n",
        "a, b = kNNRegression(X_train, X_test, y_train, y_test, True, 200, \"uniform\", \"auto\")\n",
        "dfScores = dfScores.append({'Model': \"KNN\", 'Training Score' : a, 'Testing Score' : b, 'Details': \"neighbors = 200, weights = uniform and  algorithm = auto\"}, ignore_index = True)\n",
        "print(\"\\n\")\n",
        "print(\"KNN regression with neighbors = 500, weights = uniform and  algorithm = auto\")\n",
        "a, b = kNNRegression(X_train, X_test, y_train, y_test, True, 500, \"uniform\", \"auto\")\n",
        "dfScores = dfScores.append({'Model': \"KNN\", 'Training Score' : a, 'Testing Score' : b, 'Details': \"neighbors = 500, weights = uniform and  algorithm = auto\"}, ignore_index = True)\n",
        "print(\"\\n\")\n",
        "print(\"KNN regression with neighbors = 750, weights = uniform and  algorithm = auto\")\n",
        "a, b = kNNRegression(X_train, X_test, y_train, y_test, True, 750, \"uniform\", \"auto\")\n",
        "dfScores = dfScores.append({'Model': \"KNN\", 'Training Score' : a, 'Testing Score' : b, 'Details': \"neighbors = 750, weights = uniform and  algorithm = auto\"}, ignore_index = True)\n",
        "print(\"\\n\")\n",
        "print(\"KNN regression with neighbors = 500, weights = distance and  algorithm = auto\")\n",
        "a, b = kNNRegression(X_train, X_test, y_train, y_test, True, 500, \"distance\", \"auto\")\n",
        "dfScores = dfScores.append({'Model': \"KNN\", 'Training Score' : a, 'Testing Score' : b, 'Details': \"neighbors = 500, weights = distance and  algorithm = auto\"}, ignore_index = True)\n",
        "print(\"\\n\")"
      ],
      "metadata": {
        "colab": {
          "base_uri": "https://localhost:8080/"
        },
        "id": "GisbbHHERtut",
        "outputId": "486df1e4-eeb6-4465-db9a-cd468bd05f30"
      },
      "execution_count": null,
      "outputs": [
        {
          "output_type": "stream",
          "name": "stdout",
          "text": [
            "KNN regression with neighbors = 2, weights = uniform and  algorithm = auto\n",
            "Train score=  0.9864094053889036\n",
            "Test score=  0.9594363824618014\n",
            "\n",
            "\n",
            "KNN regression with neighbors = 200, weights = uniform and  algorithm = auto\n",
            "Train score=  0.9542581155709677\n",
            "Test score=  0.9533264481682265\n",
            "\n",
            "\n",
            "KNN regression with neighbors = 500, weights = uniform and  algorithm = auto\n",
            "Train score=  0.9329065523047755\n",
            "Test score=  0.9331751470914511\n",
            "\n",
            "\n",
            "KNN regression with neighbors = 750, weights = uniform and  algorithm = auto\n",
            "Train score=  0.9162300881014404\n",
            "Test score=  0.9168944127835391\n",
            "\n",
            "\n",
            "KNN regression with neighbors = 500, weights = distance and  algorithm = auto\n",
            "Train score=  1.0\n",
            "Test score=  0.9443992230509928\n",
            "\n",
            "\n"
          ]
        }
      ]
    },
    {
      "cell_type": "markdown",
      "metadata": {
        "id": "biqoUdtVvI3S"
      },
      "source": [
        "#### Decision Tree Regressor"
      ]
    },
    {
      "cell_type": "code",
      "source": [
        "#Uso de la funcion DTRegressor con visualizacion de Scores, visualizacion de clasificacion de features, definicion de estimators, criterion y max_depth\n",
        "\n",
        "#DTRegressor (X_train, X_test, y_train, y_test, showScore = False, showClassifier, n, criterion, max_depth)\n",
        "#n_estimators: The number of trees in the forest.\n",
        "#criterion : {\"squared_error\", \"absolute_error\", \"poisson\"}\n",
        "#The function to measure the quality of a split. Supported criteria are \"squared_error\" for the mean squared error, \n",
        "#which is equal to variance reduction as feature selection criterion, \"absolute_error\" for the mean absolute error, \n",
        "#and \"poisson\" which uses reduction in Poisson deviance to find splits. Training using \"absolute_error\" is significantly \n",
        "#slower than when using \"squared_error\".\n",
        "#max_depth: The maximum depth of the tree. \n",
        "#If None, then nodes are expanded until all leaves are pure or until all leaves contain less than min_samples_split samples.\n",
        "\n",
        "print(\"DecisionTreeRegressor with n_estimators = 10, criterion = squared_error and max_depth = None\")\n",
        "a, b = DTRegressor (X_train, X_test, y_train, y_test, True, False, 10, \"squared_error\", None)\n",
        "dfScores = dfScores.append({'Model': \"Decision Tree Regressor\", 'Training Score' : a, 'Testing Score' : b, 'Details': \"n_estimators = 10, criterion = squared_error and max_depth = None\"}, ignore_index = True)\n",
        "print(\"\\n\")\n",
        "print(\"DecisionTreeRegressor with n_estimators = 100, criterion = squared_error and max_depth = None\")\n",
        "a, b = DTRegressor (X_train, X_test, y_train, y_test, True, False, 100, \"squared_error\", None)\n",
        "dfScores = dfScores.append({'Model': \"Decision Tree Regressor\", 'Training Score' : a, 'Testing Score' : b, 'Details': \"n_estimators = 100, criterion = squared_error and max_depth = None\"}, ignore_index = True)\n",
        "print(\"\\n\")\n",
        "print(\"DecisionTreeRegressor with n_estimators = 10, criterion = squared_error and max_depth = 5\")\n",
        "a, b = DTRegressor (X_train, X_test, y_train, y_test, True, False, 10, \"squared_error\", 5)\n",
        "dfScores = dfScores.append({'Model': \"Decision Tree Regressor\", 'Training Score' : a, 'Testing Score' : b, 'Details': \"n_estimators = 10, criterion = squared_error and max_depth = 5\"}, ignore_index = True)\n",
        "print(\"\\n\")\n",
        "print(\"DecisionTreeRegressor with n_estimators = 10, criterion = absolute_error and max_depth = None\")\n",
        "a, b = DTRegressor (X_train, X_test, y_train, y_test, True, False, 10, \"absolute_error\", None)\n",
        "dfScores = dfScores.append({'Model': \"Decision Tree Regressor\", 'Training Score' : a, 'Testing Score' : b, 'Details': \"n_estimators = 10, criterion = absolute_error and max_depth = None\"}, ignore_index = True)\n",
        "print(\"\\n\")\n",
        "print(\"DecisionTreeRegressor with n_estimators = 10, criterion = poisson and max_depth = None\")\n",
        "a, b = DTRegressor (X_train, X_test, y_train, y_test, True, False, 10, \"poisson\", None)\n",
        "dfScores = dfScores.append({'Model': \"Decision Tree Regressor\", 'Training Score' : a, 'Testing Score' : b, 'Details': \"n_estimators = 10, criterion = poisson and max_depth = None\"}, ignore_index = True)\n",
        "print(\"\\n\")"
      ],
      "metadata": {
        "colab": {
          "base_uri": "https://localhost:8080/"
        },
        "id": "BtkcPCdaWP_Y",
        "outputId": "2e0bd75a-6878-4b22-8fcd-44b89e695132"
      },
      "execution_count": null,
      "outputs": [
        {
          "output_type": "stream",
          "name": "stdout",
          "text": [
            "DecisionTreeRegressor with n_estimators = 10, criterion = squared_error and max_depth = None\n",
            "Train score=  0.993921619671827\n",
            "Test score=  0.9635487231490626\n",
            "\n",
            "\n",
            "DecisionTreeRegressor with n_estimators = 100, criterion = squared_error and max_depth = None\n",
            "Train score=  0.995759080295774\n",
            "Test score=  0.9676044599773543\n",
            "\n",
            "\n",
            "DecisionTreeRegressor with n_estimators = 10, criterion = squared_error and max_depth = 5\n",
            "Train score=  0.9687493369961224\n",
            "Test score=  0.9624038256118437\n",
            "\n",
            "\n",
            "DecisionTreeRegressor with n_estimators = 10, criterion = absolute_error and max_depth = None\n",
            "Train score=  0.9940907505397064\n",
            "Test score=  0.9658594497907302\n",
            "\n",
            "\n",
            "DecisionTreeRegressor with n_estimators = 10, criterion = poisson and max_depth = None\n",
            "Train score=  0.9944420291750184\n",
            "Test score=  0.963853306545893\n",
            "\n",
            "\n"
          ]
        }
      ]
    },
    {
      "cell_type": "markdown",
      "source": [
        "###Metodo de Emsamble"
      ],
      "metadata": {
        "id": "j9MRI5AJauZq"
      }
    },
    {
      "cell_type": "markdown",
      "metadata": {
        "id": "dMWvCGtWCZG1"
      },
      "source": [
        "#### Voting Regressor"
      ]
    },
    {
      "cell_type": "code",
      "execution_count": null,
      "metadata": {
        "id": "wt7Mmh05Bi5F"
      },
      "outputs": [],
      "source": [
        "#ensemble methods\n",
        "from sklearn.ensemble import GradientBoostingRegressor\n",
        "from sklearn.ensemble import RandomForestRegressor\n",
        "from sklearn.linear_model import LinearRegression\n",
        "from sklearn.ensemble import VotingRegressor\n",
        "\n",
        "# Training classifiers\n",
        "reg1 = GradientBoostingRegressor(random_state=10)\n",
        "reg2 = RandomForestRegressor(random_state=10)\n",
        "reg3 = LinearRegression()\n",
        "ereg = VotingRegressor(estimators=[('gb', reg1), ('rf', reg2), ('lr', reg3)])\n",
        "ereg = ereg.fit(X_train, y_train)\n"
      ]
    },
    {
      "cell_type": "code",
      "execution_count": null,
      "metadata": {
        "colab": {
          "base_uri": "https://localhost:8080/"
        },
        "id": "tc4ci6cIDFVQ",
        "outputId": "ae2e65e9-c1da-419a-a974-b1f00e4e895d"
      },
      "outputs": [
        {
          "output_type": "stream",
          "name": "stdout",
          "text": [
            "Train score=  0.9829543641666864\n",
            "Test score=  0.9700245615616411\n"
          ]
        }
      ],
      "source": [
        "a = ereg.score(X_train,y_train)\n",
        "b = ereg.score(X_test,y_test)\n",
        "print(\"Train score= \", a)\n",
        "print(\"Test score= \", b)\n",
        "dfScores = dfScores.append({'Model': \"Voting Regressor\", 'Training Score' : a, 'Testing Score' : b, 'Details': \"3 methods used\"}, ignore_index = True)"
      ]
    },
    {
      "cell_type": "code",
      "execution_count": null,
      "metadata": {
        "colab": {
          "base_uri": "https://localhost:8080/",
          "height": 278
        },
        "id": "2a75WHNMDm5J",
        "outputId": "c84dfd4a-4559-4b98-f238-493413d7fa08"
      },
      "outputs": [
        {
          "output_type": "display_data",
          "data": {
            "text/plain": [
              "<Figure size 432x288 with 1 Axes>"
            ],
            "image/png": "[encoded data removed]"
          },
          "metadata": {
            "needs_background": "light"
          }
        }
      ],
      "source": [
        "reg1.fit(X_train,y_train)\n",
        "reg2.fit(X_train,y_train)\n",
        "reg3.fit(X_train,y_train)\n",
        "\n",
        "xt = X_train[:20]\n",
        "\n",
        "pred1 = reg1.predict(xt)\n",
        "pred2 = reg2.predict(xt)\n",
        "pred3 = reg3.predict(xt)\n",
        "pred4 = ereg.predict(xt)\n",
        "\n",
        "plt.figure()\n",
        "plt.plot(pred1, \"gd\", label=\"GradientBoostingRegressor\")\n",
        "plt.plot(pred2, \"b^\", label=\"RandomForestRegressor\")\n",
        "plt.plot(pred3, \"ys\", label=\"LinearRegression\")\n",
        "plt.plot(pred4, \"r*\", ms=10, label=\"VotingRegressor\")\n",
        "\n",
        "plt.tick_params(axis=\"x\", which=\"both\", bottom=False, top=False, labelbottom=False)\n",
        "plt.ylabel(\"predicted\")\n",
        "plt.xlabel(\"training samples\")\n",
        "plt.legend(loc=\"best\")\n",
        "plt.title(\"Regressor predictions and their average\")\n",
        "\n",
        "plt.show()\n",
        "\n"
      ]
    },
    {
      "cell_type": "markdown",
      "source": [
        "###Results Summary - Caso 1"
      ],
      "metadata": {
        "id": "4yH5xy2yPm0U"
      }
    },
    {
      "cell_type": "code",
      "source": [
        "from google.colab import data_table\n",
        "data_table.enable_dataframe_formatter()\n",
        "\n",
        "#Desplegar tabla resumen de resultados\n",
        "print(\"Scores Summary Table\")\n",
        "display(dfScores)\n",
        "print(\"=========================================================================================================\")\n",
        "print(\"Highest Training Score:\")\n",
        "tempMaxScore = dfScores['Training Score'].max()\n",
        "display(dfScores[dfScores['Training Score'] == tempMaxScore])\n",
        "print(\"=========================================================================================================\")\n",
        "print(\"Highest Testing Score:\")\n",
        "tempMaxScore = dfScores['Testing Score'].max()\n",
        "display(dfScores[dfScores['Testing Score'] == tempMaxScore])\n"
      ],
      "metadata": {
        "colab": {
          "base_uri": "https://localhost:8080/",
          "height": 839
        },
        "id": "lISKh06WDkOo",
        "outputId": "58d1cab0-c0ae-4653-c045-472d2826121c"
      },
      "execution_count": null,
      "outputs": [
        {
          "output_type": "stream",
          "name": "stdout",
          "text": [
            "Scores Summary Table\n"
          ]
        },
        {
          "output_type": "display_data",
          "data": {
            "text/plain": [
              "                      Model  Training Score  Testing Score  \\\n",
              "0    Ordinary Least Squares        0.963228       0.962394   \n",
              "1    Ordinary Least Squares        0.963228       0.962394   \n",
              "2          Ridge regression        0.963228       0.962395   \n",
              "3          Ridge regression        0.963228       0.962395   \n",
              "4          Ridge regression        0.963228       0.962395   \n",
              "5          Ridge regression        0.963228       0.962395   \n",
              "6                       SVM        0.975878       0.967625   \n",
              "7                       SVM        0.977776       0.966078   \n",
              "8                       SVM        0.963210       0.962319   \n",
              "9                       SVM        0.963215       0.962343   \n",
              "10                      SVM        0.963210       0.962319   \n",
              "11                      KNN        0.986409       0.959436   \n",
              "12                      KNN        0.954258       0.953326   \n",
              "13                      KNN        0.932907       0.933175   \n",
              "14                      KNN        0.916230       0.916894   \n",
              "15                      KNN        1.000000       0.944399   \n",
              "16  Decision Tree Regressor        0.993922       0.963549   \n",
              "17  Decision Tree Regressor        0.995759       0.967604   \n",
              "18  Decision Tree Regressor        0.968749       0.962404   \n",
              "19  Decision Tree Regressor        0.994091       0.965859   \n",
              "20  Decision Tree Regressor        0.994442       0.963853   \n",
              "21         Voting Regressor        0.982954       0.970025   \n",
              "\n",
              "                                              Details  \n",
              "0                                                 N/A  \n",
              "1                          Non-negative least squares  \n",
              "2                                         Alpha = 0.5  \n",
              "3                                           Alpha = 1  \n",
              "4            Alpha = 0.5 & Non-negative least squares  \n",
              "5              Alpha = 1 & Non-negative least squares  \n",
              "6                kernel = rbf, C = 1 and gamma = auto  \n",
              "7               kernel = rbf, C = 10 and gamma = auto  \n",
              "8             kernel = linear, C = 1 and gamma = auto  \n",
              "9            kernel = linear, C = 10 and gamma = auto  \n",
              "10          kernel = linear, C = 10 and gamma = scale  \n",
              "11  neighbors = 2, weights = uniform and  algorith...  \n",
              "12  neighbors = 200, weights = uniform and  algori...  \n",
              "13  neighbors = 500, weights = uniform and  algori...  \n",
              "14  neighbors = 750, weights = uniform and  algori...  \n",
              "15  neighbors = 500, weights = distance and  algor...  \n",
              "16  n_estimators = 10, criterion = squared_error a...  \n",
              "17  n_estimators = 100, criterion = squared_error ...  \n",
              "18  n_estimators = 10, criterion = squared_error a...  \n",
              "19  n_estimators = 10, criterion = absolute_error ...  \n",
              "20  n_estimators = 10, criterion = poisson and max...  \n",
              "21                                     3 methods used  "
            ],
            "text/html": [
              "\n",
              "  <div id=\"df-ed781fa2-ad77-4250-9822-2a664d8a2467\">\n",
              "    <div class=\"colab-df-container\">\n",
              "      <div>\n",
              "<style scoped>\n",
              "    .dataframe tbody tr th:only-of-type {\n",
              "        vertical-align: middle;\n",
              "    }\n",
              "\n",
              "    .dataframe tbody tr th {\n",
              "        vertical-align: top;\n",
              "    }\n",
              "\n",
              "    .dataframe thead th {\n",
              "        text-align: right;\n",
              "    }\n",
              "</style>\n",
              "<table border=\"1\" class=\"dataframe\">\n",
              "  <thead>\n",
              "    <tr style=\"text-align: right;\">\n",
              "      <th></th>\n",
              "      <th>Model</th>\n",
              "      <th>Training Score</th>\n",
              "      <th>Testing Score</th>\n",
              "      <th>Details</th>\n",
              "    </tr>\n",
              "  </thead>\n",
              "  <tbody>\n",
              "    <tr>\n",
              "      <th>0</th>\n",
              "      <td>Ordinary Least Squares</td>\n",
              "      <td>0.963228</td>\n",
              "      <td>0.962394</td>\n",
              "      <td>N/A</td>\n",
              "    </tr>\n",
              "    <tr>\n",
              "      <th>1</th>\n",
              "      <td>Ordinary Least Squares</td>\n",
              "      <td>0.963228</td>\n",
              "      <td>0.962394</td>\n",
              "      <td>Non-negative least squares</td>\n",
              "    </tr>\n",
              "    <tr>\n",
              "      <th>2</th>\n",
              "      <td>Ridge regression</td>\n",
              "      <td>0.963228</td>\n",
              "      <td>0.962395</td>\n",
              "      <td>Alpha = 0.5</td>\n",
              "    </tr>\n",
              "    <tr>\n",
              "      <th>3</th>\n",
              "      <td>Ridge regression</td>\n",
              "      <td>0.963228</td>\n",
              "      <td>0.962395</td>\n",
              "      <td>Alpha = 1</td>\n",
              "    </tr>\n",
              "    <tr>\n",
              "      <th>4</th>\n",
              "      <td>Ridge regression</td>\n",
              "      <td>0.963228</td>\n",
              "      <td>0.962395</td>\n",
              "      <td>Alpha = 0.5 &amp; Non-negative least squares</td>\n",
              "    </tr>\n",
              "    <tr>\n",
              "      <th>5</th>\n",
              "      <td>Ridge regression</td>\n",
              "      <td>0.963228</td>\n",
              "      <td>0.962395</td>\n",
              "      <td>Alpha = 1 &amp; Non-negative least squares</td>\n",
              "    </tr>\n",
              "    <tr>\n",
              "      <th>6</th>\n",
              "      <td>SVM</td>\n",
              "      <td>0.975878</td>\n",
              "      <td>0.967625</td>\n",
              "      <td>kernel = rbf, C = 1 and gamma = auto</td>\n",
              "    </tr>\n",
              "    <tr>\n",
              "      <th>7</th>\n",
              "      <td>SVM</td>\n",
              "      <td>0.977776</td>\n",
              "      <td>0.966078</td>\n",
              "      <td>kernel = rbf, C = 10 and gamma = auto</td>\n",
              "    </tr>\n",
              "    <tr>\n",
              "      <th>8</th>\n",
              "      <td>SVM</td>\n",
              "      <td>0.963210</td>\n",
              "      <td>0.962319</td>\n",
              "      <td>kernel = linear, C = 1 and gamma = auto</td>\n",
              "    </tr>\n",
              "    <tr>\n",
              "      <th>9</th>\n",
              "      <td>SVM</td>\n",
              "      <td>0.963215</td>\n",
              "      <td>0.962343</td>\n",
              "      <td>kernel = linear, C = 10 and gamma = auto</td>\n",
              "    </tr>\n",
              "    <tr>\n",
              "      <th>10</th>\n",
              "      <td>SVM</td>\n",
              "      <td>0.963210</td>\n",
              "      <td>0.962319</td>\n",
              "      <td>kernel = linear, C = 10 and gamma = scale</td>\n",
              "    </tr>\n",
              "    <tr>\n",
              "      <th>11</th>\n",
              "      <td>KNN</td>\n",
              "      <td>0.986409</td>\n",
              "      <td>0.959436</td>\n",
              "      <td>neighbors = 2, weights = uniform and  algorith...</td>\n",
              "    </tr>\n",
              "    <tr>\n",
              "      <th>12</th>\n",
              "      <td>KNN</td>\n",
              "      <td>0.954258</td>\n",
              "      <td>0.953326</td>\n",
              "      <td>neighbors = 200, weights = uniform and  algori...</td>\n",
              "    </tr>\n",
              "    <tr>\n",
              "      <th>13</th>\n",
              "      <td>KNN</td>\n",
              "      <td>0.932907</td>\n",
              "      <td>0.933175</td>\n",
              "      <td>neighbors = 500, weights = uniform and  algori...</td>\n",
              "    </tr>\n",
              "    <tr>\n",
              "      <th>14</th>\n",
              "      <td>KNN</td>\n",
              "      <td>0.916230</td>\n",
              "      <td>0.916894</td>\n",
              "      <td>neighbors = 750, weights = uniform and  algori...</td>\n",
              "    </tr>\n",
              "    <tr>\n",
              "      <th>15</th>\n",
              "      <td>KNN</td>\n",
              "      <td>1.000000</td>\n",
              "      <td>0.944399</td>\n",
              "      <td>neighbors = 500, weights = distance and  algor...</td>\n",
              "    </tr>\n",
              "    <tr>\n",
              "      <th>16</th>\n",
              "      <td>Decision Tree Regressor</td>\n",
              "      <td>0.993922</td>\n",
              "      <td>0.963549</td>\n",
              "      <td>n_estimators = 10, criterion = squared_error a...</td>\n",
              "    </tr>\n",
              "    <tr>\n",
              "      <th>17</th>\n",
              "      <td>Decision Tree Regressor</td>\n",
              "      <td>0.995759</td>\n",
              "      <td>0.967604</td>\n",
              "      <td>n_estimators = 100, criterion = squared_error ...</td>\n",
              "    </tr>\n",
              "    <tr>\n",
              "      <th>18</th>\n",
              "      <td>Decision Tree Regressor</td>\n",
              "      <td>0.968749</td>\n",
              "      <td>0.962404</td>\n",
              "      <td>n_estimators = 10, criterion = squared_error a...</td>\n",
              "    </tr>\n",
              "    <tr>\n",
              "      <th>19</th>\n",
              "      <td>Decision Tree Regressor</td>\n",
              "      <td>0.994091</td>\n",
              "      <td>0.965859</td>\n",
              "      <td>n_estimators = 10, criterion = absolute_error ...</td>\n",
              "    </tr>\n",
              "    <tr>\n",
              "      <th>20</th>\n",
              "      <td>Decision Tree Regressor</td>\n",
              "      <td>0.994442</td>\n",
              "      <td>0.963853</td>\n",
              "      <td>n_estimators = 10, criterion = poisson and max...</td>\n",
              "    </tr>\n",
              "    <tr>\n",
              "      <th>21</th>\n",
              "      <td>Voting Regressor</td>\n",
              "      <td>0.982954</td>\n",
              "      <td>0.970025</td>\n",
              "      <td>3 methods used</td>\n",
              "    </tr>\n",
              "  </tbody>\n",
              "</table>\n",
              "</div>\n",
              "      <button class=\"colab-df-convert\" onclick=\"convertToInteractive('df-ed781fa2-ad77-4250-9822-2a664d8a2467')\"\n",
              "              title=\"Convert this dataframe to an interactive table.\"\n",
              "              style=\"display:none;\">\n",
              "        \n",
              "  <svg xmlns=\"http://www.w3.org/2000/svg\" height=\"24px\"viewBox=\"0 0 24 24\"\n",
              "       width=\"24px\">\n",
              "    <path d=\"M0 0h24v24H0V0z\" fill=\"none\"/>\n",
              "    <path d=\"M18.56 5.44l.94 2.06.94-2.06 2.06-.94-2.06-.94-.94-2.06-.94 2.06-2.06.94zm-11 1L8.5 8.5l.94-2.06 2.06-.94-2.06-.94L8.5 2.5l-.94 2.06-2.06.94zm10 10l.94 2.06.94-2.06 2.06-.94-2.06-.94-.94-2.06-.94 2.06-2.06.94z\"/><path d=\"M17.41 7.96l-1.37-1.37c-.4-.4-.92-.59-1.43-.59-.52 0-1.04.2-1.43.59L10.3 9.45l-7.72 7.72c-.78.78-.78 2.05 0 2.83L4 21.41c.39.39.9.59 1.41.59.51 0 1.02-.2 1.41-.59l7.78-7.78 2.81-2.81c.8-.78.8-2.07 0-2.86zM5.41 20L4 18.59l7.72-7.72 1.47 1.35L5.41 20z\"/>\n",
              "  </svg>\n",
              "      </button>\n",
              "      \n",
              "  <style>\n",
              "    .colab-df-container {\n",
              "      display:flex;\n",
              "      flex-wrap:wrap;\n",
              "      gap: 12px;\n",
              "    }\n",
              "\n",
              "    .colab-df-convert {\n",
              "      background-color: #E8F0FE;\n",
              "      border: none;\n",
              "      border-radius: 50%;\n",
              "      cursor: pointer;\n",
              "      display: none;\n",
              "      fill: #1967D2;\n",
              "      height: 32px;\n",
              "      padding: 0 0 0 0;\n",
              "      width: 32px;\n",
              "    }\n",
              "\n",
              "    .colab-df-convert:hover {\n",
              "      background-color: #E2EBFA;\n",
              "      box-shadow: 0px 1px 2px rgba(60, 64, 67, 0.3), 0px 1px 3px 1px rgba(60, 64, 67, 0.15);\n",
              "      fill: #174EA6;\n",
              "    }\n",
              "\n",
              "    [theme=dark] .colab-df-convert {\n",
              "      background-color: #3B4455;\n",
              "      fill: #D2E3FC;\n",
              "    }\n",
              "\n",
              "    [theme=dark] .colab-df-convert:hover {\n",
              "      background-color: #434B5C;\n",
              "      box-shadow: 0px 1px 3px 1px rgba(0, 0, 0, 0.15);\n",
              "      filter: drop-shadow(0px 1px 2px rgba(0, 0, 0, 0.3));\n",
              "      fill: #FFFFFF;\n",
              "    }\n",
              "  </style>\n",
              "\n",
              "      <script>\n",
              "        const buttonEl =\n",
              "          document.querySelector('#df-ed781fa2-ad77-4250-9822-2a664d8a2467 button.colab-df-convert');\n",
              "        buttonEl.style.display =\n",
              "          google.colab.kernel.accessAllowed ? 'block' : 'none';\n",
              "\n",
              "        async function convertToInteractive(key) {\n",
              "          const element = document.querySelector('#df-ed781fa2-ad77-4250-9822-2a664d8a2467');\n",
              "          const dataTable =\n",
              "            await google.colab.kernel.invokeFunction('convertToInteractive',\n",
              "                                                     [key], {});\n",
              "          if (!dataTable) return;\n",
              "\n",
              "          const docLinkHtml = 'Like what you see? Visit the ' +\n",
              "            '<a target=\"_blank\" href=https://colab.research.google.com/notebooks/data_table.ipynb>data table notebook</a>'\n",
              "            + ' to learn more about interactive tables.';\n",
              "          element.innerHTML = '';\n",
              "          dataTable['output_type'] = 'display_data';\n",
              "          await google.colab.output.renderOutput(dataTable, element);\n",
              "          const docLink = document.createElement('div');\n",
              "          docLink.innerHTML = docLinkHtml;\n",
              "          element.appendChild(docLink);\n",
              "        }\n",
              "      </script>\n",
              "    </div>\n",
              "  </div>\n",
              "  "
            ],
            "application/vnd.google.colaboratory.module+javascript": "\n      import \"https://ssl.gstatic.com/colaboratory/data_table/fb998edc550c7947/data_table.js\";\n\n      window.createDataTable({\n        data: [[{\n            'v': 0,\n            'f': \"0\",\n        },\n\"Ordinary Least Squares\",\n{\n            'v': 0.9632280104173241,\n            'f': \"0.9632280104173241\",\n        },\n{\n            'v': 0.9623943370092025,\n            'f': \"0.9623943370092025\",\n        },\n\"N/A\"],\n [{\n            'v': 1,\n            'f': \"1\",\n        },\n\"Ordinary Least Squares\",\n{\n            'v': 0.9632280104173241,\n            'f': \"0.9632280104173241\",\n        },\n{\n            'v': 0.9623943370092024,\n            'f': \"0.9623943370092024\",\n        },\n\"Non-negative least squares\"],\n [{\n            'v': 2,\n            'f': \"2\",\n        },\n\"Ridge regression\",\n{\n            'v': 0.9632280102568296,\n            'f': \"0.9632280102568296\",\n        },\n{\n            'v': 0.962394543465349,\n            'f': \"0.962394543465349\",\n        },\n\"Alpha = 0.5\"],\n [{\n            'v': 3,\n            'f': \"3\",\n        },\n\"Ridge regression\",\n{\n            'v': 0.9632280097753796,\n            'f': \"0.9632280097753796\",\n        },\n{\n            'v': 0.9623947495878895,\n            'f': \"0.9623947495878895\",\n        },\n\"Alpha = 1\"],\n [{\n            'v': 4,\n            'f': \"4\",\n        },\n\"Ridge regression\",\n{\n            'v': 0.9632280102580119,\n            'f': \"0.9632280102580119\",\n        },\n{\n            'v': 0.9623945428050322,\n            'f': \"0.9623945428050322\",\n        },\n\"Alpha = 0.5 & Non-negative least squares\"],\n [{\n            'v': 5,\n            'f': \"5\",\n        },\n\"Ridge regression\",\n{\n            'v': 0.9632280097777463,\n            'f': \"0.9632280097777463\",\n        },\n{\n            'v': 0.9623947489289014,\n            'f': \"0.9623947489289014\",\n        },\n\"Alpha = 1 & Non-negative least squares\"],\n [{\n            'v': 6,\n            'f': \"6\",\n        },\n\"SVM\",\n{\n            'v': 0.975877591751733,\n            'f': \"0.975877591751733\",\n        },\n{\n            'v': 0.9676250537503345,\n            'f': \"0.9676250537503345\",\n        },\n\"kernel = rbf, C = 1 and gamma = auto\"],\n [{\n            'v': 7,\n            'f': \"7\",\n        },\n\"SVM\",\n{\n            'v': 0.977775715539438,\n            'f': \"0.977775715539438\",\n        },\n{\n            'v': 0.9660784213425844,\n            'f': \"0.9660784213425844\",\n        },\n\"kernel = rbf, C = 10 and gamma = auto\"],\n [{\n            'v': 8,\n            'f': \"8\",\n        },\n\"SVM\",\n{\n            'v': 0.9632104555007702,\n            'f': \"0.9632104555007702\",\n        },\n{\n            'v': 0.9623187496119315,\n            'f': \"0.9623187496119315\",\n        },\n\"kernel = linear, C = 1 and gamma = auto\"],\n [{\n            'v': 9,\n            'f': \"9\",\n        },\n\"SVM\",\n{\n            'v': 0.9632145196097815,\n            'f': \"0.9632145196097815\",\n        },\n{\n            'v': 0.9623425260443068,\n            'f': \"0.9623425260443068\",\n        },\n\"kernel = linear, C = 10 and gamma = auto\"],\n [{\n            'v': 10,\n            'f': \"10\",\n        },\n\"SVM\",\n{\n            'v': 0.9632104555007702,\n            'f': \"0.9632104555007702\",\n        },\n{\n            'v': 0.9623187496119315,\n            'f': \"0.9623187496119315\",\n        },\n\"kernel = linear, C = 10 and gamma = scale\"],\n [{\n            'v': 11,\n            'f': \"11\",\n        },\n\"KNN\",\n{\n            'v': 0.9864094053889036,\n            'f': \"0.9864094053889036\",\n        },\n{\n            'v': 0.9594363824618014,\n            'f': \"0.9594363824618014\",\n        },\n\"neighbors = 2, weights = uniform and  algorithm = auto\"],\n [{\n            'v': 12,\n            'f': \"12\",\n        },\n\"KNN\",\n{\n            'v': 0.9542581155709677,\n            'f': \"0.9542581155709677\",\n        },\n{\n            'v': 0.9533264481682265,\n            'f': \"0.9533264481682265\",\n        },\n\"neighbors = 200, weights = uniform and  algorithm = auto\"],\n [{\n            'v': 13,\n            'f': \"13\",\n        },\n\"KNN\",\n{\n            'v': 0.9329065523047755,\n            'f': \"0.9329065523047755\",\n        },\n{\n            'v': 0.9331751470914511,\n            'f': \"0.9331751470914511\",\n        },\n\"neighbors = 500, weights = uniform and  algorithm = auto\"],\n [{\n            'v': 14,\n            'f': \"14\",\n        },\n\"KNN\",\n{\n            'v': 0.9162300881014404,\n            'f': \"0.9162300881014404\",\n        },\n{\n            'v': 0.9168944127835391,\n            'f': \"0.9168944127835391\",\n        },\n\"neighbors = 750, weights = uniform and  algorithm = auto\"],\n [{\n            'v': 15,\n            'f': \"15\",\n        },\n\"KNN\",\n{\n            'v': 1.0,\n            'f': \"1.0\",\n        },\n{\n            'v': 0.9443992230509928,\n            'f': \"0.9443992230509928\",\n        },\n\"neighbors = 500, weights = distance and  algorithm = auto\"],\n [{\n            'v': 16,\n            'f': \"16\",\n        },\n\"Decision Tree Regressor\",\n{\n            'v': 0.993921619671827,\n            'f': \"0.993921619671827\",\n        },\n{\n            'v': 0.9635487231490626,\n            'f': \"0.9635487231490626\",\n        },\n\"n_estimators = 10, criterion = squared_error and max_depth = None\"],\n [{\n            'v': 17,\n            'f': \"17\",\n        },\n\"Decision Tree Regressor\",\n{\n            'v': 0.995759080295774,\n            'f': \"0.995759080295774\",\n        },\n{\n            'v': 0.9676044599773543,\n            'f': \"0.9676044599773543\",\n        },\n\"n_estimators = 100, criterion = squared_error and max_depth = None\"],\n [{\n            'v': 18,\n            'f': \"18\",\n        },\n\"Decision Tree Regressor\",\n{\n            'v': 0.9687493369961224,\n            'f': \"0.9687493369961224\",\n        },\n{\n            'v': 0.9624038256118437,\n            'f': \"0.9624038256118437\",\n        },\n\"n_estimators = 10, criterion = squared_error and max_depth = 5\"],\n [{\n            'v': 19,\n            'f': \"19\",\n        },\n\"Decision Tree Regressor\",\n{\n            'v': 0.9940907505397064,\n            'f': \"0.9940907505397064\",\n        },\n{\n            'v': 0.9658594497907302,\n            'f': \"0.9658594497907302\",\n        },\n\"n_estimators = 10, criterion = absolute_error and max_depth = None\"],\n [{\n            'v': 20,\n            'f': \"20\",\n        },\n\"Decision Tree Regressor\",\n{\n            'v': 0.9944420291750184,\n            'f': \"0.9944420291750184\",\n        },\n{\n            'v': 0.963853306545893,\n            'f': \"0.963853306545893\",\n        },\n\"n_estimators = 10, criterion = poisson and max_depth = None\"],\n [{\n            'v': 21,\n            'f': \"21\",\n        },\n\"Voting Regressor\",\n{\n            'v': 0.9829543641666864,\n            'f': \"0.9829543641666864\",\n        },\n{\n            'v': 0.9700245615616411,\n            'f': \"0.9700245615616411\",\n        },\n\"3 methods used\"]],\n        columns: [[\"number\", \"index\"], [\"string\", \"Model\"], [\"number\", \"Training Score\"], [\"number\", \"Testing Score\"], [\"string\", \"Details\"]],\n        columnOptions: [{\"width\": \"1px\", \"className\": \"index_column\"}],\n        rowsPerPage: 25,\n        helpUrl: \"https://colab.research.google.com/notebooks/data_table.ipynb\",\n        suppressOutputScrolling: true,\n        minimumWidth: undefined,\n      });\n    "
          },
          "metadata": {}
        },
        {
          "output_type": "stream",
          "name": "stdout",
          "text": [
            "=========================================================================================================\n",
            "Highest Training Score:\n"
          ]
        },
        {
          "output_type": "display_data",
          "data": {
            "text/plain": [
              "   Model  Training Score  Testing Score  \\\n",
              "15   KNN             1.0       0.944399   \n",
              "\n",
              "                                              Details  \n",
              "15  neighbors = 500, weights = distance and  algor...  "
            ],
            "text/html": [
              "\n",
              "  <div id=\"df-8761e167-3304-45ce-835d-a154df63bfab\">\n",
              "    <div class=\"colab-df-container\">\n",
              "      <div>\n",
              "<style scoped>\n",
              "    .dataframe tbody tr th:only-of-type {\n",
              "        vertical-align: middle;\n",
              "    }\n",
              "\n",
              "    .dataframe tbody tr th {\n",
              "        vertical-align: top;\n",
              "    }\n",
              "\n",
              "    .dataframe thead th {\n",
              "        text-align: right;\n",
              "    }\n",
              "</style>\n",
              "<table border=\"1\" class=\"dataframe\">\n",
              "  <thead>\n",
              "    <tr style=\"text-align: right;\">\n",
              "      <th></th>\n",
              "      <th>Model</th>\n",
              "      <th>Training Score</th>\n",
              "      <th>Testing Score</th>\n",
              "      <th>Details</th>\n",
              "    </tr>\n",
              "  </thead>\n",
              "  <tbody>\n",
              "    <tr>\n",
              "      <th>15</th>\n",
              "      <td>KNN</td>\n",
              "      <td>1.0</td>\n",
              "      <td>0.944399</td>\n",
              "      <td>neighbors = 500, weights = distance and  algor...</td>\n",
              "    </tr>\n",
              "  </tbody>\n",
              "</table>\n",
              "</div>\n",
              "      <button class=\"colab-df-convert\" onclick=\"convertToInteractive('df-8761e167-3304-45ce-835d-a154df63bfab')\"\n",
              "              title=\"Convert this dataframe to an interactive table.\"\n",
              "              style=\"display:none;\">\n",
              "        \n",
              "  <svg xmlns=\"http://www.w3.org/2000/svg\" height=\"24px\"viewBox=\"0 0 24 24\"\n",
              "       width=\"24px\">\n",
              "    <path d=\"M0 0h24v24H0V0z\" fill=\"none\"/>\n",
              "    <path d=\"M18.56 5.44l.94 2.06.94-2.06 2.06-.94-2.06-.94-.94-2.06-.94 2.06-2.06.94zm-11 1L8.5 8.5l.94-2.06 2.06-.94-2.06-.94L8.5 2.5l-.94 2.06-2.06.94zm10 10l.94 2.06.94-2.06 2.06-.94-2.06-.94-.94-2.06-.94 2.06-2.06.94z\"/><path d=\"M17.41 7.96l-1.37-1.37c-.4-.4-.92-.59-1.43-.59-.52 0-1.04.2-1.43.59L10.3 9.45l-7.72 7.72c-.78.78-.78 2.05 0 2.83L4 21.41c.39.39.9.59 1.41.59.51 0 1.02-.2 1.41-.59l7.78-7.78 2.81-2.81c.8-.78.8-2.07 0-2.86zM5.41 20L4 18.59l7.72-7.72 1.47 1.35L5.41 20z\"/>\n",
              "  </svg>\n",
              "      </button>\n",
              "      \n",
              "  <style>\n",
              "    .colab-df-container {\n",
              "      display:flex;\n",
              "      flex-wrap:wrap;\n",
              "      gap: 12px;\n",
              "    }\n",
              "\n",
              "    .colab-df-convert {\n",
              "      background-color: #E8F0FE;\n",
              "      border: none;\n",
              "      border-radius: 50%;\n",
              "      cursor: pointer;\n",
              "      display: none;\n",
              "      fill: #1967D2;\n",
              "      height: 32px;\n",
              "      padding: 0 0 0 0;\n",
              "      width: 32px;\n",
              "    }\n",
              "\n",
              "    .colab-df-convert:hover {\n",
              "      background-color: #E2EBFA;\n",
              "      box-shadow: 0px 1px 2px rgba(60, 64, 67, 0.3), 0px 1px 3px 1px rgba(60, 64, 67, 0.15);\n",
              "      fill: #174EA6;\n",
              "    }\n",
              "\n",
              "    [theme=dark] .colab-df-convert {\n",
              "      background-color: #3B4455;\n",
              "      fill: #D2E3FC;\n",
              "    }\n",
              "\n",
              "    [theme=dark] .colab-df-convert:hover {\n",
              "      background-color: #434B5C;\n",
              "      box-shadow: 0px 1px 3px 1px rgba(0, 0, 0, 0.15);\n",
              "      filter: drop-shadow(0px 1px 2px rgba(0, 0, 0, 0.3));\n",
              "      fill: #FFFFFF;\n",
              "    }\n",
              "  </style>\n",
              "\n",
              "      <script>\n",
              "        const buttonEl =\n",
              "          document.querySelector('#df-8761e167-3304-45ce-835d-a154df63bfab button.colab-df-convert');\n",
              "        buttonEl.style.display =\n",
              "          google.colab.kernel.accessAllowed ? 'block' : 'none';\n",
              "\n",
              "        async function convertToInteractive(key) {\n",
              "          const element = document.querySelector('#df-8761e167-3304-45ce-835d-a154df63bfab');\n",
              "          const dataTable =\n",
              "            await google.colab.kernel.invokeFunction('convertToInteractive',\n",
              "                                                     [key], {});\n",
              "          if (!dataTable) return;\n",
              "\n",
              "          const docLinkHtml = 'Like what you see? Visit the ' +\n",
              "            '<a target=\"_blank\" href=https://colab.research.google.com/notebooks/data_table.ipynb>data table notebook</a>'\n",
              "            + ' to learn more about interactive tables.';\n",
              "          element.innerHTML = '';\n",
              "          dataTable['output_type'] = 'display_data';\n",
              "          await google.colab.output.renderOutput(dataTable, element);\n",
              "          const docLink = document.createElement('div');\n",
              "          docLink.innerHTML = docLinkHtml;\n",
              "          element.appendChild(docLink);\n",
              "        }\n",
              "      </script>\n",
              "    </div>\n",
              "  </div>\n",
              "  "
            ],
            "application/vnd.google.colaboratory.module+javascript": "\n      import \"https://ssl.gstatic.com/colaboratory/data_table/fb998edc550c7947/data_table.js\";\n\n      window.createDataTable({\n        data: [[{\n            'v': 15,\n            'f': \"15\",\n        },\n\"KNN\",\n{\n            'v': 1.0,\n            'f': \"1.0\",\n        },\n{\n            'v': 0.9443992230509928,\n            'f': \"0.9443992230509928\",\n        },\n\"neighbors = 500, weights = distance and  algorithm = auto\"]],\n        columns: [[\"number\", \"index\"], [\"string\", \"Model\"], [\"number\", \"Training Score\"], [\"number\", \"Testing Score\"], [\"string\", \"Details\"]],\n        columnOptions: [{\"width\": \"1px\", \"className\": \"index_column\"}],\n        rowsPerPage: 25,\n        helpUrl: \"https://colab.research.google.com/notebooks/data_table.ipynb\",\n        suppressOutputScrolling: true,\n        minimumWidth: undefined,\n      });\n    "
          },
          "metadata": {}
        },
        {
          "output_type": "stream",
          "name": "stdout",
          "text": [
            "=========================================================================================================\n",
            "Highest Testing Score:\n"
          ]
        },
        {
          "output_type": "display_data",
          "data": {
            "text/plain": [
              "               Model  Training Score  Testing Score         Details\n",
              "21  Voting Regressor        0.982954       0.970025  3 methods used"
            ],
            "text/html": [
              "\n",
              "  <div id=\"df-96a16e4d-f5fb-493c-9fc0-0d47b5bc8691\">\n",
              "    <div class=\"colab-df-container\">\n",
              "      <div>\n",
              "<style scoped>\n",
              "    .dataframe tbody tr th:only-of-type {\n",
              "        vertical-align: middle;\n",
              "    }\n",
              "\n",
              "    .dataframe tbody tr th {\n",
              "        vertical-align: top;\n",
              "    }\n",
              "\n",
              "    .dataframe thead th {\n",
              "        text-align: right;\n",
              "    }\n",
              "</style>\n",
              "<table border=\"1\" class=\"dataframe\">\n",
              "  <thead>\n",
              "    <tr style=\"text-align: right;\">\n",
              "      <th></th>\n",
              "      <th>Model</th>\n",
              "      <th>Training Score</th>\n",
              "      <th>Testing Score</th>\n",
              "      <th>Details</th>\n",
              "    </tr>\n",
              "  </thead>\n",
              "  <tbody>\n",
              "    <tr>\n",
              "      <th>21</th>\n",
              "      <td>Voting Regressor</td>\n",
              "      <td>0.982954</td>\n",
              "      <td>0.970025</td>\n",
              "      <td>3 methods used</td>\n",
              "    </tr>\n",
              "  </tbody>\n",
              "</table>\n",
              "</div>\n",
              "      <button class=\"colab-df-convert\" onclick=\"convertToInteractive('df-96a16e4d-f5fb-493c-9fc0-0d47b5bc8691')\"\n",
              "              title=\"Convert this dataframe to an interactive table.\"\n",
              "              style=\"display:none;\">\n",
              "        \n",
              "  <svg xmlns=\"http://www.w3.org/2000/svg\" height=\"24px\"viewBox=\"0 0 24 24\"\n",
              "       width=\"24px\">\n",
              "    <path d=\"M0 0h24v24H0V0z\" fill=\"none\"/>\n",
              "    <path d=\"M18.56 5.44l.94 2.06.94-2.06 2.06-.94-2.06-.94-.94-2.06-.94 2.06-2.06.94zm-11 1L8.5 8.5l.94-2.06 2.06-.94-2.06-.94L8.5 2.5l-.94 2.06-2.06.94zm10 10l.94 2.06.94-2.06 2.06-.94-2.06-.94-.94-2.06-.94 2.06-2.06.94z\"/><path d=\"M17.41 7.96l-1.37-1.37c-.4-.4-.92-.59-1.43-.59-.52 0-1.04.2-1.43.59L10.3 9.45l-7.72 7.72c-.78.78-.78 2.05 0 2.83L4 21.41c.39.39.9.59 1.41.59.51 0 1.02-.2 1.41-.59l7.78-7.78 2.81-2.81c.8-.78.8-2.07 0-2.86zM5.41 20L4 18.59l7.72-7.72 1.47 1.35L5.41 20z\"/>\n",
              "  </svg>\n",
              "      </button>\n",
              "      \n",
              "  <style>\n",
              "    .colab-df-container {\n",
              "      display:flex;\n",
              "      flex-wrap:wrap;\n",
              "      gap: 12px;\n",
              "    }\n",
              "\n",
              "    .colab-df-convert {\n",
              "      background-color: #E8F0FE;\n",
              "      border: none;\n",
              "      border-radius: 50%;\n",
              "      cursor: pointer;\n",
              "      display: none;\n",
              "      fill: #1967D2;\n",
              "      height: 32px;\n",
              "      padding: 0 0 0 0;\n",
              "      width: 32px;\n",
              "    }\n",
              "\n",
              "    .colab-df-convert:hover {\n",
              "      background-color: #E2EBFA;\n",
              "      box-shadow: 0px 1px 2px rgba(60, 64, 67, 0.3), 0px 1px 3px 1px rgba(60, 64, 67, 0.15);\n",
              "      fill: #174EA6;\n",
              "    }\n",
              "\n",
              "    [theme=dark] .colab-df-convert {\n",
              "      background-color: #3B4455;\n",
              "      fill: #D2E3FC;\n",
              "    }\n",
              "\n",
              "    [theme=dark] .colab-df-convert:hover {\n",
              "      background-color: #434B5C;\n",
              "      box-shadow: 0px 1px 3px 1px rgba(0, 0, 0, 0.15);\n",
              "      filter: drop-shadow(0px 1px 2px rgba(0, 0, 0, 0.3));\n",
              "      fill: #FFFFFF;\n",
              "    }\n",
              "  </style>\n",
              "\n",
              "      <script>\n",
              "        const buttonEl =\n",
              "          document.querySelector('#df-96a16e4d-f5fb-493c-9fc0-0d47b5bc8691 button.colab-df-convert');\n",
              "        buttonEl.style.display =\n",
              "          google.colab.kernel.accessAllowed ? 'block' : 'none';\n",
              "\n",
              "        async function convertToInteractive(key) {\n",
              "          const element = document.querySelector('#df-96a16e4d-f5fb-493c-9fc0-0d47b5bc8691');\n",
              "          const dataTable =\n",
              "            await google.colab.kernel.invokeFunction('convertToInteractive',\n",
              "                                                     [key], {});\n",
              "          if (!dataTable) return;\n",
              "\n",
              "          const docLinkHtml = 'Like what you see? Visit the ' +\n",
              "            '<a target=\"_blank\" href=https://colab.research.google.com/notebooks/data_table.ipynb>data table notebook</a>'\n",
              "            + ' to learn more about interactive tables.';\n",
              "          element.innerHTML = '';\n",
              "          dataTable['output_type'] = 'display_data';\n",
              "          await google.colab.output.renderOutput(dataTable, element);\n",
              "          const docLink = document.createElement('div');\n",
              "          docLink.innerHTML = docLinkHtml;\n",
              "          element.appendChild(docLink);\n",
              "        }\n",
              "      </script>\n",
              "    </div>\n",
              "  </div>\n",
              "  "
            ],
            "application/vnd.google.colaboratory.module+javascript": "\n      import \"https://ssl.gstatic.com/colaboratory/data_table/fb998edc550c7947/data_table.js\";\n\n      window.createDataTable({\n        data: [[{\n            'v': 21,\n            'f': \"21\",\n        },\n\"Voting Regressor\",\n{\n            'v': 0.9829543641666864,\n            'f': \"0.9829543641666864\",\n        },\n{\n            'v': 0.9700245615616411,\n            'f': \"0.9700245615616411\",\n        },\n\"3 methods used\"]],\n        columns: [[\"number\", \"index\"], [\"string\", \"Model\"], [\"number\", \"Training Score\"], [\"number\", \"Testing Score\"], [\"string\", \"Details\"]],\n        columnOptions: [{\"width\": \"1px\", \"className\": \"index_column\"}],\n        rowsPerPage: 25,\n        helpUrl: \"https://colab.research.google.com/notebooks/data_table.ipynb\",\n        suppressOutputScrolling: true,\n        minimumWidth: undefined,\n      });\n    "
          },
          "metadata": {}
        }
      ]
    },
    {
      "cell_type": "code",
      "source": [
        "print(\"Decision Tree Regression - importances features\")\n",
        "a, b = DTRegressor (X_train, X_test, y_train, y_test, True, True, 100, \"squared_error\", None)"
      ],
      "metadata": {
        "colab": {
          "base_uri": "https://localhost:8080/",
          "height": 403
        },
        "id": "VP0sOnccPSwo",
        "outputId": "00500ff9-595d-48b5-895d-4fdc8a05c783"
      },
      "execution_count": null,
      "outputs": [
        {
          "output_type": "stream",
          "name": "stdout",
          "text": [
            "Decision Tree Regression - importances features\n",
            "Train score=  0.9957517673418657\n",
            "Test score=  0.9675024325404397\n",
            "Showing importances features classification:\n"
          ]
        },
        {
          "output_type": "display_data",
          "data": {
            "text/plain": [
              "<Figure size 432x288 with 1 Axes>"
            ],
            "image/png": "[encoded data removed]"
          },
          "metadata": {}
        }
      ]
    },
    {
      "cell_type": "markdown",
      "source": [
        "###Concluciones del Caso 1"
      ],
      "metadata": {
        "id": "_9f80074Vj1G"
      }
    },
    {
      "cell_type": "markdown",
      "source": [
        "En base a las pruebas realizadas y los datos seleccionados se tiene que el mejor resultado lo tiene el Metodo de Emsamble Voting Regressor, ya que tiene los Scores (training & testing) mas altos de manera balanceada. Ademas, basado en el grafico de las caracteristicas mas importantes, en la celda anterior, temperatura maxima es la caracteristica predominante para predecir ETO."
      ],
      "metadata": {
        "id": "MYHowDsAWEes"
      }
    },
    {
      "cell_type": "markdown",
      "source": [
        "##Paso 4: Caso 2. Aplicacion de los diferentes metodos de regresion"
      ],
      "metadata": {
        "id": "uPxqfL54WvSO"
      }
    },
    {
      "cell_type": "markdown",
      "source": [
        "Definicion de Features y Targets, con la separacion de los Dtaos para Training & Testing"
      ],
      "metadata": {
        "id": "k7kL1IvHWvSO"
      }
    },
    {
      "cell_type": "code",
      "execution_count": null,
      "metadata": {
        "id": "8vMSdVckWvSO"
      },
      "outputs": [],
      "source": [
        "#Definicion de features o targets, segun caso\n",
        "\n",
        "features = df[['top_rad','surface_rad','uva-ra','rel_hum','surface_pres','prec']]\n",
        "targets = df['t_max']\n",
        "\n"
      ]
    },
    {
      "cell_type": "code",
      "execution_count": null,
      "metadata": {
        "colab": {
          "base_uri": "https://localhost:8080/"
        },
        "outputId": "87d70b9c-e621-47dc-cb0d-da5f89ff42ec",
        "id": "dlfjLexMWvSO"
      },
      "outputs": [
        {
          "output_type": "stream",
          "name": "stdout",
          "text": [
            "Segregation verification, sizes:\n",
            "X_train=  (5324, 6)\n",
            "X_test=  (1775, 6)\n",
            "y_train=  (5324,)\n",
            "y_test=  (1775,)\n"
          ]
        }
      ],
      "source": [
        "#Uso de funcion Data_Segregation, con un random_state de 13 y la visualizacion de tamanos activa\n",
        "X_train, X_test, y_train, y_test = Data_Segregation (features,targets, 13, True)"
      ]
    },
    {
      "cell_type": "markdown",
      "metadata": {
        "id": "IxjoorajWvSO"
      },
      "source": [
        "### Aplicacion de los modelos de regresion "
      ]
    },
    {
      "cell_type": "code",
      "source": [
        "#Creacion de un DataFrame para almacenar los difernetes Scores \n",
        "import pandas as pd\n",
        "\n",
        "#Definicion de columnas\n",
        "columnsSummary = ['Model', 'Training Score', 'Testing Score', 'Details']\n",
        "\n",
        "# Creacion del Data Frame vacio\n",
        "dfScores = pd.DataFrame(columns = columnsSummary)\n"
      ],
      "metadata": {
        "id": "5cbQV2NiWvSP"
      },
      "execution_count": null,
      "outputs": []
    },
    {
      "cell_type": "markdown",
      "source": [
        "####Modelos Lineales"
      ],
      "metadata": {
        "id": "Lhr4To-QWvSP"
      }
    },
    {
      "cell_type": "code",
      "source": [
        "#Uso de funcion Linear_Regression, con visualizacion de Scores y opcion de Non-negative least squares en el ultimo parametro de la funcion\n",
        "#(\"When set to True, forces the coefficients to be positive\")\n",
        "\n",
        "print(\"Ordinary Least Squares\")\n",
        "a, b = Linear_Regression(X_train, X_test, y_train, y_test, True, False)\n",
        "dfScores = dfScores.append({'Model': \"Ordinary Least Squares\", 'Training Score' : a, 'Testing Score' : b, 'Details': \"N/A\"}, ignore_index = True)\n",
        "\n",
        "print(\"\\n\")\n",
        "print(\"Ordinary Least Squares and Non-negative least squares\")\n",
        "a, b = Linear_Regression(X_train, X_test, y_train, y_test, True, True)\n",
        "dfScores = dfScores.append({'Model': \"Ordinary Least Squares\", 'Training Score' : a, 'Testing Score' : b, 'Details': \"Non-negative least squares\"}, ignore_index = True)"
      ],
      "metadata": {
        "colab": {
          "base_uri": "https://localhost:8080/"
        },
        "outputId": "c84a3c96-2889-4222-ab34-c74f95fd7b3a",
        "id": "EpGONlarWvSP"
      },
      "execution_count": null,
      "outputs": [
        {
          "output_type": "stream",
          "name": "stdout",
          "text": [
            "Ordinary Least Squares\n",
            "Train score=  0.9051315492089013\n",
            "Test score=  0.9117998641049946\n",
            "\n",
            "\n",
            "Ordinary Least Squares and Non-negative least squares\n",
            "Train score=  0.4784890561648858\n",
            "Test score=  0.48341906879965646\n"
          ]
        }
      ]
    },
    {
      "cell_type": "code",
      "source": [
        "#Uso de funcion LRRidge, con visualizacion de Scores, opcion de Non-negative least squares y opcion de Regularization strength (alpha)\n",
        "\n",
        "print(\"Ridge regression and alpha equal to 0.5\")\n",
        "a, b = LRRidge(X_train, X_test, y_train, y_test, True, False, 0.5)\n",
        "dfScores = dfScores.append({'Model': \"Ridge regression\", 'Training Score' : a, 'Testing Score' : b, 'Details': \"Alpha = 0.5\"}, ignore_index = True)\n",
        "print(\"\\n\")\n",
        "print(\"Ridge regression and alpha equal to 0.1\")\n",
        "a, b = LRRidge(X_train, X_test, y_train, y_test, True, False, 1)\n",
        "dfScores = dfScores.append({'Model': \"Ridge regression\", 'Training Score' : a, 'Testing Score' : b, 'Details': \"Alpha = 1\"}, ignore_index = True)\n",
        "print(\"\\n\")\n",
        "print(\"Ridge regression, alpha equal to 0.5 and Non-negative least squares\")\n",
        "a, b = LRRidge(X_train, X_test, y_train, y_test, True, True, 0.5)\n",
        "dfScores = dfScores.append({'Model': \"Ridge regression\", 'Training Score' : a, 'Testing Score' : b, 'Details': \"Alpha = 0.5 & Non-negative least squares\"}, ignore_index = True)\n",
        "print(\"\\n\")\n",
        "print(\"Ridge regression alpha equal to 0.1 and Non-negative least squares\")\n",
        "a, b = LRRidge(X_train, X_test, y_train, y_test, True, True, 1)\n",
        "dfScores = dfScores.append({'Model': \"Ridge regression\", 'Training Score' : a, 'Testing Score' : b, 'Details': \"Alpha = 1 & Non-negative least squares\"}, ignore_index = True)\n",
        "print(\"\\n\")"
      ],
      "metadata": {
        "colab": {
          "base_uri": "https://localhost:8080/"
        },
        "outputId": "8992e669-1f07-4531-b465-64f15ae16070",
        "id": "zLYqfvBHWvSP"
      },
      "execution_count": null,
      "outputs": [
        {
          "output_type": "stream",
          "name": "stdout",
          "text": [
            "Ridge regression and alpha equal to 0.5\n",
            "Train score=  0.9051308089638727\n",
            "Test score=  0.9117880312403951\n",
            "\n",
            "\n",
            "Ridge regression and alpha equal to 0.1\n",
            "Train score=  0.9051286268408282\n",
            "Test score=  0.9117748265960046\n",
            "\n",
            "\n",
            "Ridge regression, alpha equal to 0.5 and Non-negative least squares\n",
            "Train score=  0.4784864538890634\n",
            "Test score=  0.4834114497666182\n",
            "\n",
            "\n",
            "Ridge regression alpha equal to 0.1 and Non-negative least squares\n",
            "Train score=  0.4784864351889129\n",
            "Test score=  0.4834114185282553\n",
            "\n",
            "\n"
          ]
        }
      ]
    },
    {
      "cell_type": "markdown",
      "metadata": {
        "id": "J5Wmz3xZWvSP"
      },
      "source": [
        "#### Modelo Maquina de Soporte Vectorial "
      ]
    },
    {
      "cell_type": "code",
      "execution_count": null,
      "metadata": {
        "colab": {
          "base_uri": "https://localhost:8080/"
        },
        "outputId": "319e782d-7388-4081-c3ef-6604c15f74f6",
        "id": "0YlYAEdoWvSQ"
      },
      "outputs": [
        {
          "output_type": "stream",
          "name": "stdout",
          "text": [
            "SVM with kernel = rbf, C = 1 and gamma = auto\n",
            "Train score=  0.916205702748646\n",
            "Test score=  0.8734910244570196\n",
            "\n",
            "\n",
            "SVM with kernel = rbf, C = 10 and gamma = auto\n",
            "Train score=  0.9487374602696383\n",
            "Test score=  0.8776397460598966\n",
            "\n",
            "\n",
            "SVM with kernel = linear, C = 1 and gamma = auto\n",
            "Train score=  0.9040638511080336\n",
            "Test score=  0.9111667015918447\n",
            "\n",
            "\n",
            "SVM with kernel = linear, C = 10 and gamma = auto\n",
            "Train score=  0.90390406732643\n",
            "Test score=  0.9110299862238735\n",
            "\n",
            "\n",
            "SVM with kernel = linear, C = 1 and gamma = scale\n",
            "Train score=  0.9040638511080336\n",
            "Test score=  0.9111667015918447\n",
            "\n",
            "\n"
          ]
        }
      ],
      "source": [
        "#Uso de la funcion SVMachine con visualizacion de Scores, definicion de Kernel, C y gamma\n",
        "print(\"SVM with kernel = rbf, C = 1 and gamma = auto\")\n",
        "a, b = SVMachine(X_train, X_test, y_train, y_test, True, \"rbf\", 1, \"auto\")\n",
        "dfScores = dfScores.append({'Model': \"SVM\", 'Training Score' : a, 'Testing Score' : b, 'Details': \"kernel = rbf, C = 1 and gamma = auto\"}, ignore_index = True)\n",
        "print(\"\\n\")\n",
        "print(\"SVM with kernel = rbf, C = 10 and gamma = auto\")\n",
        "a, b = SVMachine(X_train, X_test, y_train, y_test, True, \"rbf\", 10, \"auto\")\n",
        "dfScores = dfScores.append({'Model': \"SVM\", 'Training Score' : a, 'Testing Score' : b, 'Details': \"kernel = rbf, C = 10 and gamma = auto\"}, ignore_index = True)\n",
        "print(\"\\n\")\n",
        "print(\"SVM with kernel = linear, C = 1 and gamma = auto\")\n",
        "a, b = SVMachine(X_train, X_test, y_train, y_test, True, \"linear\", 1, \"auto\")\n",
        "dfScores = dfScores.append({'Model': \"SVM\", 'Training Score' : a, 'Testing Score' : b, 'Details': \"kernel = linear, C = 1 and gamma = auto\"}, ignore_index = True)\n",
        "print(\"\\n\")\n",
        "print(\"SVM with kernel = linear, C = 10 and gamma = auto\")\n",
        "a, b = SVMachine(X_train, X_test, y_train, y_test, True, \"linear\", 10, \"auto\")\n",
        "dfScores = dfScores.append({'Model': \"SVM\", 'Training Score' : a, 'Testing Score' : b, 'Details': \"kernel = linear, C = 10 and gamma = auto\"}, ignore_index = True)\n",
        "print(\"\\n\")\n",
        "print(\"SVM with kernel = linear, C = 1 and gamma = scale\")\n",
        "a, b = SVMachine(X_train, X_test, y_train, y_test, True, \"linear\", 1, \"scale\")\n",
        "dfScores = dfScores.append({'Model': \"SVM\", 'Training Score' : a, 'Testing Score' : b, 'Details': \"kernel = linear, C = 10 and gamma = scale\"}, ignore_index = True)\n",
        "print(\"\\n\")"
      ]
    },
    {
      "cell_type": "markdown",
      "metadata": {
        "id": "2QWHg8O0WvSQ"
      },
      "source": [
        "#### KNN KNeighbors Regressor "
      ]
    },
    {
      "cell_type": "code",
      "source": [
        "#Uso de la funcion kNNRegression con visualizacion de Scores, definicion de neighbors, weights y algorithm\n",
        "\n",
        "#kNNRegression(X_train, X_test, y_train, y_test, showScore, n, weights, algorithm)\n",
        "#n: Number of neighbors to use\n",
        "#weights = 'uniform', assigns equal weights to all points. \n",
        "#weights = 'distance' assigns weights proportional to the inverse of the distance from the query point\n",
        "#algorithm{‘auto’, ‘ball_tree’, ‘kd_tree’, ‘brute’}, default=’auto’\n",
        "#Algorithm used to compute the nearest neighbors\n",
        "\n",
        "print(\"KNN regression with neighbors = 2, weights = uniform and  algorithm = auto\")\n",
        "a, b = kNNRegression(X_train, X_test, y_train, y_test, True, 2, \"uniform\", \"auto\")\n",
        "dfScores = dfScores.append({'Model': \"KNN\", 'Training Score' : a, 'Testing Score' : b, 'Details': \"neighbors = 2, weights = uniform and  algorithm = auto\"}, ignore_index = True)\n",
        "print(\"\\n\")\n",
        "print(\"KNN regression with neighbors = 200, weights = uniform and  algorithm = auto\")\n",
        "a, b = kNNRegression(X_train, X_test, y_train, y_test, True, 200, \"uniform\", \"auto\")\n",
        "dfScores = dfScores.append({'Model': \"KNN\", 'Training Score' : a, 'Testing Score' : b, 'Details': \"neighbors = 200, weights = uniform and  algorithm = auto\"}, ignore_index = True)\n",
        "print(\"\\n\")\n",
        "print(\"KNN regression with neighbors = 500, weights = uniform and  algorithm = auto\")\n",
        "a, b = kNNRegression(X_train, X_test, y_train, y_test, True, 500, \"uniform\", \"auto\")\n",
        "dfScores = dfScores.append({'Model': \"KNN\", 'Training Score' : a, 'Testing Score' : b, 'Details': \"neighbors = 500, weights = uniform and  algorithm = auto\"}, ignore_index = True)\n",
        "print(\"\\n\")\n",
        "print(\"KNN regression with neighbors = 750, weights = uniform and  algorithm = auto\")\n",
        "a, b = kNNRegression(X_train, X_test, y_train, y_test, True, 750, \"uniform\", \"auto\")\n",
        "dfScores = dfScores.append({'Model': \"KNN\", 'Training Score' : a, 'Testing Score' : b, 'Details': \"neighbors = 750, weights = uniform and  algorithm = auto\"}, ignore_index = True)\n",
        "print(\"\\n\")\n",
        "print(\"KNN regression with neighbors = 500, weights = distance and  algorithm = auto\")\n",
        "a, b = kNNRegression(X_train, X_test, y_train, y_test, True, 500, \"distance\", \"auto\")\n",
        "dfScores = dfScores.append({'Model': \"KNN\", 'Training Score' : a, 'Testing Score' : b, 'Details': \"neighbors = 500, weights = distance and  algorithm = auto\"}, ignore_index = True)\n",
        "print(\"\\n\")"
      ],
      "metadata": {
        "colab": {
          "base_uri": "https://localhost:8080/"
        },
        "outputId": "83a64a2a-ecc9-48b6-f43c-3f39b50a94e8",
        "id": "dX2JcLrlWvSQ"
      },
      "execution_count": null,
      "outputs": [
        {
          "output_type": "stream",
          "name": "stdout",
          "text": [
            "KNN regression with neighbors = 2, weights = uniform and  algorithm = auto\n",
            "Train score=  0.9548054039655087\n",
            "Test score=  0.8631960370408369\n",
            "\n",
            "\n",
            "KNN regression with neighbors = 200, weights = uniform and  algorithm = auto\n",
            "Train score=  0.890024824651885\n",
            "Test score=  0.8904466450293657\n",
            "\n",
            "\n",
            "KNN regression with neighbors = 500, weights = uniform and  algorithm = auto\n",
            "Train score=  0.8757630048252196\n",
            "Test score=  0.8759713602669273\n",
            "\n",
            "\n",
            "KNN regression with neighbors = 750, weights = uniform and  algorithm = auto\n",
            "Train score=  0.8648139720359906\n",
            "Test score=  0.8642395514073742\n",
            "\n",
            "\n",
            "KNN regression with neighbors = 500, weights = distance and  algorithm = auto\n",
            "Train score=  1.0\n",
            "Test score=  0.8830868995245149\n",
            "\n",
            "\n"
          ]
        }
      ]
    },
    {
      "cell_type": "markdown",
      "metadata": {
        "id": "CSj_3IwdWvSR"
      },
      "source": [
        "#### Decision Tree Regressor"
      ]
    },
    {
      "cell_type": "code",
      "source": [
        "#Uso de la funcion DTRegressor con visualizacion de Scores, visualizacion de clasificacion de features, definicion de estimators, criterion y max_depth\n",
        "\n",
        "#DTRegressor (X_train, X_test, y_train, y_test, showScore = False, showClassifier, n, criterion, max_depth)\n",
        "#n_estimators: The number of trees in the forest.\n",
        "#criterion : {\"squared_error\", \"absolute_error\", \"poisson\"}\n",
        "#The function to measure the quality of a split. Supported criteria are \"squared_error\" for the mean squared error, \n",
        "#which is equal to variance reduction as feature selection criterion, \"absolute_error\" for the mean absolute error, \n",
        "#and \"poisson\" which uses reduction in Poisson deviance to find splits. Training using \"absolute_error\" is significantly \n",
        "#slower than when using \"squared_error\".\n",
        "#max_depth: The maximum depth of the tree. \n",
        "#If None, then nodes are expanded until all leaves are pure or until all leaves contain less than min_samples_split samples.\n",
        "\n",
        "print(\"DecisionTreeRegressor with n_estimators = 10, criterion = squared_error and max_depth = None\")\n",
        "a, b = DTRegressor (X_train, X_test, y_train, y_test, True, False, 10, \"squared_error\", None)\n",
        "dfScores = dfScores.append({'Model': \"Decision Tree Regressor\", 'Training Score' : a, 'Testing Score' : b, 'Details': \"n_estimators = 10, criterion = squared_error and max_depth = None\"}, ignore_index = True)\n",
        "print(\"\\n\")\n",
        "print(\"DecisionTreeRegressor with n_estimators = 100, criterion = squared_error and max_depth = None\")\n",
        "a, b = DTRegressor (X_train, X_test, y_train, y_test, True, False, 100, \"squared_error\", None)\n",
        "dfScores = dfScores.append({'Model': \"Decision Tree Regressor\", 'Training Score' : a, 'Testing Score' : b, 'Details': \"n_estimators = 100, criterion = squared_error and max_depth = None\"}, ignore_index = True)\n",
        "print(\"\\n\")\n",
        "print(\"DecisionTreeRegressor with n_estimators = 10, criterion = squared_error and max_depth = 5\")\n",
        "a, b = DTRegressor (X_train, X_test, y_train, y_test, True, False, 10, \"squared_error\", 5)\n",
        "dfScores = dfScores.append({'Model': \"Decision Tree Regressor\", 'Training Score' : a, 'Testing Score' : b, 'Details': \"n_estimators = 10, criterion = squared_error and max_depth = 5\"}, ignore_index = True)\n",
        "print(\"\\n\")\n",
        "print(\"DecisionTreeRegressor with n_estimators = 10, criterion = absolute_error and max_depth = None\")\n",
        "a, b = DTRegressor (X_train, X_test, y_train, y_test, True, False, 10, \"absolute_error\", None)\n",
        "dfScores = dfScores.append({'Model': \"Decision Tree Regressor\", 'Training Score' : a, 'Testing Score' : b, 'Details': \"n_estimators = 10, criterion = absolute_error and max_depth = None\"}, ignore_index = True)\n",
        "print(\"\\n\")\n",
        "print(\"DecisionTreeRegressor with n_estimators = 10, criterion = poisson and max_depth = None\")\n",
        "a, b = DTRegressor (X_train, X_test, y_train, y_test, True, False, 10, \"poisson\", None)\n",
        "dfScores = dfScores.append({'Model': \"Decision Tree Regressor\", 'Training Score' : a, 'Testing Score' : b, 'Details': \"n_estimators = 10, criterion = poisson and max_depth = None\"}, ignore_index = True)\n",
        "print(\"\\n\")"
      ],
      "metadata": {
        "colab": {
          "base_uri": "https://localhost:8080/"
        },
        "outputId": "5a096edc-ccd5-4d07-b368-116424a2a49c",
        "id": "bcBbje9qWvSR"
      },
      "execution_count": null,
      "outputs": [
        {
          "output_type": "stream",
          "name": "stdout",
          "text": [
            "DecisionTreeRegressor with n_estimators = 10, criterion = squared_error and max_depth = None\n",
            "Train score=  0.9828190833173025\n",
            "Test score=  0.9081336306572073\n",
            "\n",
            "\n",
            "DecisionTreeRegressor with n_estimators = 100, criterion = squared_error and max_depth = None\n",
            "Train score=  0.9879403503825652\n",
            "Test score=  0.9163927010791053\n",
            "\n",
            "\n",
            "DecisionTreeRegressor with n_estimators = 10, criterion = squared_error and max_depth = 5\n",
            "Train score=  0.9134736879151371\n",
            "Test score=  0.9061793960462\n",
            "\n",
            "\n",
            "DecisionTreeRegressor with n_estimators = 10, criterion = absolute_error and max_depth = None\n",
            "Train score=  0.9829249899000766\n",
            "Test score=  0.9094195236220874\n",
            "\n",
            "\n",
            "DecisionTreeRegressor with n_estimators = 10, criterion = poisson and max_depth = None\n",
            "Train score=  0.9834283450506704\n",
            "Test score=  0.9069707170875831\n",
            "\n",
            "\n"
          ]
        }
      ]
    },
    {
      "cell_type": "markdown",
      "source": [
        "###Metodo de Emsamble"
      ],
      "metadata": {
        "id": "GDFizsYdWvSR"
      }
    },
    {
      "cell_type": "markdown",
      "metadata": {
        "id": "KXJxIoLjWvSR"
      },
      "source": [
        "#### Voting Regressor"
      ]
    },
    {
      "cell_type": "code",
      "execution_count": null,
      "metadata": {
        "id": "H-ZVxhLEWvSR"
      },
      "outputs": [],
      "source": [
        "#ensemble methods\n",
        "from sklearn.ensemble import GradientBoostingRegressor\n",
        "from sklearn.ensemble import RandomForestRegressor\n",
        "from sklearn.linear_model import LinearRegression\n",
        "from sklearn.ensemble import VotingRegressor\n",
        "\n",
        "# Training classifiers\n",
        "reg1 = GradientBoostingRegressor(random_state=10)\n",
        "reg2 = RandomForestRegressor(random_state=10)\n",
        "reg3 = LinearRegression()\n",
        "ereg = VotingRegressor(estimators=[('gb', reg1), ('rf', reg2), ('lr', reg3)])\n",
        "ereg = ereg.fit(X_train, y_train)\n"
      ]
    },
    {
      "cell_type": "code",
      "execution_count": null,
      "metadata": {
        "colab": {
          "base_uri": "https://localhost:8080/"
        },
        "outputId": "8759123c-5a01-48a3-c807-878a8e99985d",
        "id": "bUkSZ3kEWvSR"
      },
      "outputs": [
        {
          "output_type": "stream",
          "name": "stdout",
          "text": [
            "Train score=  0.9509425140223953\n",
            "Test score=  0.9210515618840266\n"
          ]
        }
      ],
      "source": [
        "a = ereg.score(X_train,y_train)\n",
        "b = ereg.score(X_test,y_test)\n",
        "print(\"Train score= \", a)\n",
        "print(\"Test score= \", b)\n",
        "dfScores = dfScores.append({'Model': \"Voting Regressor\", 'Training Score' : a, 'Testing Score' : b, 'Details': \"3 methods used\"}, ignore_index = True)"
      ]
    },
    {
      "cell_type": "code",
      "execution_count": null,
      "metadata": {
        "colab": {
          "base_uri": "https://localhost:8080/",
          "height": 282
        },
        "outputId": "0d8404fb-8110-4ff6-8dee-b7b3729b4958",
        "id": "94hzmTl2WvSS"
      },
      "outputs": [
        {
          "output_type": "display_data",
          "data": {
            "text/plain": [
              "<Figure size 432x288 with 1 Axes>"
            ],
            "image/png": "[encoded data removed]"
          },
          "metadata": {}
        }
      ],
      "source": [
        "reg1.fit(X_train,y_train)\n",
        "reg2.fit(X_train,y_train)\n",
        "reg3.fit(X_train,y_train)\n",
        "\n",
        "xt = X_train[:20]\n",
        "\n",
        "pred1 = reg1.predict(xt)\n",
        "pred2 = reg2.predict(xt)\n",
        "pred3 = reg3.predict(xt)\n",
        "pred4 = ereg.predict(xt)\n",
        "\n",
        "plt.figure()\n",
        "plt.plot(pred1, \"gd\", label=\"GradientBoostingRegressor\")\n",
        "plt.plot(pred2, \"b^\", label=\"RandomForestRegressor\")\n",
        "plt.plot(pred3, \"ys\", label=\"LinearRegression\")\n",
        "plt.plot(pred4, \"r*\", ms=10, label=\"VotingRegressor\")\n",
        "\n",
        "plt.tick_params(axis=\"x\", which=\"both\", bottom=False, top=False, labelbottom=False)\n",
        "plt.ylabel(\"predicted\")\n",
        "plt.xlabel(\"training samples\")\n",
        "plt.legend(loc=\"best\")\n",
        "plt.title(\"Regressor predictions and their average\")\n",
        "\n",
        "plt.show()\n",
        "\n"
      ]
    },
    {
      "cell_type": "markdown",
      "source": [
        "###Results Summary - Caso 2"
      ],
      "metadata": {
        "id": "Z81UDgJMWvSS"
      }
    },
    {
      "cell_type": "code",
      "source": [
        "from google.colab import data_table\n",
        "data_table.enable_dataframe_formatter()\n",
        "\n",
        "#Desplegar tabla resumen de resultados\n",
        "print(\"Scores Summary Table\")\n",
        "display(dfScores)\n",
        "print(\"=========================================================================================================\")\n",
        "print(\"Highest Training Score:\")\n",
        "tempMaxScore = dfScores['Training Score'].max()\n",
        "display(dfScores[dfScores['Training Score'] == tempMaxScore])\n",
        "print(\"=========================================================================================================\")\n",
        "print(\"Highest Testing Score:\")\n",
        "tempMaxScore = dfScores['Testing Score'].max()\n",
        "display(dfScores[dfScores['Testing Score'] == tempMaxScore])\n"
      ],
      "metadata": {
        "colab": {
          "base_uri": "https://localhost:8080/",
          "height": 839
        },
        "outputId": "b0951ebf-5ef9-41ad-9b6f-58fcc542c794",
        "id": "EhTyMQG6WvSS"
      },
      "execution_count": null,
      "outputs": [
        {
          "output_type": "stream",
          "name": "stdout",
          "text": [
            "Scores Summary Table\n"
          ]
        },
        {
          "output_type": "display_data",
          "data": {
            "text/plain": [
              "                      Model  Training Score  Testing Score  \\\n",
              "0    Ordinary Least Squares        0.905132       0.911800   \n",
              "1    Ordinary Least Squares        0.478489       0.483419   \n",
              "2          Ridge regression        0.905131       0.911788   \n",
              "3          Ridge regression        0.905129       0.911775   \n",
              "4          Ridge regression        0.478486       0.483411   \n",
              "5          Ridge regression        0.478486       0.483411   \n",
              "6                       SVM        0.916206       0.873491   \n",
              "7                       SVM        0.948737       0.877640   \n",
              "8                       SVM        0.904064       0.911167   \n",
              "9                       SVM        0.903904       0.911030   \n",
              "10                      SVM        0.904064       0.911167   \n",
              "11                      KNN        0.954805       0.863196   \n",
              "12                      KNN        0.890025       0.890447   \n",
              "13                      KNN        0.875763       0.875971   \n",
              "14                      KNN        0.864814       0.864240   \n",
              "15                      KNN        1.000000       0.883087   \n",
              "16  Decision Tree Regressor        0.982819       0.908134   \n",
              "17  Decision Tree Regressor        0.987940       0.916393   \n",
              "18  Decision Tree Regressor        0.913474       0.906179   \n",
              "19  Decision Tree Regressor        0.982925       0.909420   \n",
              "20  Decision Tree Regressor        0.983428       0.906971   \n",
              "21         Voting Regressor        0.950943       0.921052   \n",
              "\n",
              "                                              Details  \n",
              "0                                                 N/A  \n",
              "1                          Non-negative least squares  \n",
              "2                                         Alpha = 0.5  \n",
              "3                                           Alpha = 1  \n",
              "4            Alpha = 0.5 & Non-negative least squares  \n",
              "5              Alpha = 1 & Non-negative least squares  \n",
              "6                kernel = rbf, C = 1 and gamma = auto  \n",
              "7               kernel = rbf, C = 10 and gamma = auto  \n",
              "8             kernel = linear, C = 1 and gamma = auto  \n",
              "9            kernel = linear, C = 10 and gamma = auto  \n",
              "10          kernel = linear, C = 10 and gamma = scale  \n",
              "11  neighbors = 2, weights = uniform and  algorith...  \n",
              "12  neighbors = 200, weights = uniform and  algori...  \n",
              "13  neighbors = 500, weights = uniform and  algori...  \n",
              "14  neighbors = 750, weights = uniform and  algori...  \n",
              "15  neighbors = 500, weights = distance and  algor...  \n",
              "16  n_estimators = 10, criterion = squared_error a...  \n",
              "17  n_estimators = 100, criterion = squared_error ...  \n",
              "18  n_estimators = 10, criterion = squared_error a...  \n",
              "19  n_estimators = 10, criterion = absolute_error ...  \n",
              "20  n_estimators = 10, criterion = poisson and max...  \n",
              "21                                     3 methods used  "
            ],
            "text/html": [
              "\n",
              "  <div id=\"df-5bc5717d-307a-44a9-b985-b6c7483ba18a\">\n",
              "    <div class=\"colab-df-container\">\n",
              "      <div>\n",
              "<style scoped>\n",
              "    .dataframe tbody tr th:only-of-type {\n",
              "        vertical-align: middle;\n",
              "    }\n",
              "\n",
              "    .dataframe tbody tr th {\n",
              "        vertical-align: top;\n",
              "    }\n",
              "\n",
              "    .dataframe thead th {\n",
              "        text-align: right;\n",
              "    }\n",
              "</style>\n",
              "<table border=\"1\" class=\"dataframe\">\n",
              "  <thead>\n",
              "    <tr style=\"text-align: right;\">\n",
              "      <th></th>\n",
              "      <th>Model</th>\n",
              "      <th>Training Score</th>\n",
              "      <th>Testing Score</th>\n",
              "      <th>Details</th>\n",
              "    </tr>\n",
              "  </thead>\n",
              "  <tbody>\n",
              "    <tr>\n",
              "      <th>0</th>\n",
              "      <td>Ordinary Least Squares</td>\n",
              "      <td>0.905132</td>\n",
              "      <td>0.911800</td>\n",
              "      <td>N/A</td>\n",
              "    </tr>\n",
              "    <tr>\n",
              "      <th>1</th>\n",
              "      <td>Ordinary Least Squares</td>\n",
              "      <td>0.478489</td>\n",
              "      <td>0.483419</td>\n",
              "      <td>Non-negative least squares</td>\n",
              "    </tr>\n",
              "    <tr>\n",
              "      <th>2</th>\n",
              "      <td>Ridge regression</td>\n",
              "      <td>0.905131</td>\n",
              "      <td>0.911788</td>\n",
              "      <td>Alpha = 0.5</td>\n",
              "    </tr>\n",
              "    <tr>\n",
              "      <th>3</th>\n",
              "      <td>Ridge regression</td>\n",
              "      <td>0.905129</td>\n",
              "      <td>0.911775</td>\n",
              "      <td>Alpha = 1</td>\n",
              "    </tr>\n",
              "    <tr>\n",
              "      <th>4</th>\n",
              "      <td>Ridge regression</td>\n",
              "      <td>0.478486</td>\n",
              "      <td>0.483411</td>\n",
              "      <td>Alpha = 0.5 &amp; Non-negative least squares</td>\n",
              "    </tr>\n",
              "    <tr>\n",
              "      <th>5</th>\n",
              "      <td>Ridge regression</td>\n",
              "      <td>0.478486</td>\n",
              "      <td>0.483411</td>\n",
              "      <td>Alpha = 1 &amp; Non-negative least squares</td>\n",
              "    </tr>\n",
              "    <tr>\n",
              "      <th>6</th>\n",
              "      <td>SVM</td>\n",
              "      <td>0.916206</td>\n",
              "      <td>0.873491</td>\n",
              "      <td>kernel = rbf, C = 1 and gamma = auto</td>\n",
              "    </tr>\n",
              "    <tr>\n",
              "      <th>7</th>\n",
              "      <td>SVM</td>\n",
              "      <td>0.948737</td>\n",
              "      <td>0.877640</td>\n",
              "      <td>kernel = rbf, C = 10 and gamma = auto</td>\n",
              "    </tr>\n",
              "    <tr>\n",
              "      <th>8</th>\n",
              "      <td>SVM</td>\n",
              "      <td>0.904064</td>\n",
              "      <td>0.911167</td>\n",
              "      <td>kernel = linear, C = 1 and gamma = auto</td>\n",
              "    </tr>\n",
              "    <tr>\n",
              "      <th>9</th>\n",
              "      <td>SVM</td>\n",
              "      <td>0.903904</td>\n",
              "      <td>0.911030</td>\n",
              "      <td>kernel = linear, C = 10 and gamma = auto</td>\n",
              "    </tr>\n",
              "    <tr>\n",
              "      <th>10</th>\n",
              "      <td>SVM</td>\n",
              "      <td>0.904064</td>\n",
              "      <td>0.911167</td>\n",
              "      <td>kernel = linear, C = 10 and gamma = scale</td>\n",
              "    </tr>\n",
              "    <tr>\n",
              "      <th>11</th>\n",
              "      <td>KNN</td>\n",
              "      <td>0.954805</td>\n",
              "      <td>0.863196</td>\n",
              "      <td>neighbors = 2, weights = uniform and  algorith...</td>\n",
              "    </tr>\n",
              "    <tr>\n",
              "      <th>12</th>\n",
              "      <td>KNN</td>\n",
              "      <td>0.890025</td>\n",
              "      <td>0.890447</td>\n",
              "      <td>neighbors = 200, weights = uniform and  algori...</td>\n",
              "    </tr>\n",
              "    <tr>\n",
              "      <th>13</th>\n",
              "      <td>KNN</td>\n",
              "      <td>0.875763</td>\n",
              "      <td>0.875971</td>\n",
              "      <td>neighbors = 500, weights = uniform and  algori...</td>\n",
              "    </tr>\n",
              "    <tr>\n",
              "      <th>14</th>\n",
              "      <td>KNN</td>\n",
              "      <td>0.864814</td>\n",
              "      <td>0.864240</td>\n",
              "      <td>neighbors = 750, weights = uniform and  algori...</td>\n",
              "    </tr>\n",
              "    <tr>\n",
              "      <th>15</th>\n",
              "      <td>KNN</td>\n",
              "      <td>1.000000</td>\n",
              "      <td>0.883087</td>\n",
              "      <td>neighbors = 500, weights = distance and  algor...</td>\n",
              "    </tr>\n",
              "    <tr>\n",
              "      <th>16</th>\n",
              "      <td>Decision Tree Regressor</td>\n",
              "      <td>0.982819</td>\n",
              "      <td>0.908134</td>\n",
              "      <td>n_estimators = 10, criterion = squared_error a...</td>\n",
              "    </tr>\n",
              "    <tr>\n",
              "      <th>17</th>\n",
              "      <td>Decision Tree Regressor</td>\n",
              "      <td>0.987940</td>\n",
              "      <td>0.916393</td>\n",
              "      <td>n_estimators = 100, criterion = squared_error ...</td>\n",
              "    </tr>\n",
              "    <tr>\n",
              "      <th>18</th>\n",
              "      <td>Decision Tree Regressor</td>\n",
              "      <td>0.913474</td>\n",
              "      <td>0.906179</td>\n",
              "      <td>n_estimators = 10, criterion = squared_error a...</td>\n",
              "    </tr>\n",
              "    <tr>\n",
              "      <th>19</th>\n",
              "      <td>Decision Tree Regressor</td>\n",
              "      <td>0.982925</td>\n",
              "      <td>0.909420</td>\n",
              "      <td>n_estimators = 10, criterion = absolute_error ...</td>\n",
              "    </tr>\n",
              "    <tr>\n",
              "      <th>20</th>\n",
              "      <td>Decision Tree Regressor</td>\n",
              "      <td>0.983428</td>\n",
              "      <td>0.906971</td>\n",
              "      <td>n_estimators = 10, criterion = poisson and max...</td>\n",
              "    </tr>\n",
              "    <tr>\n",
              "      <th>21</th>\n",
              "      <td>Voting Regressor</td>\n",
              "      <td>0.950943</td>\n",
              "      <td>0.921052</td>\n",
              "      <td>3 methods used</td>\n",
              "    </tr>\n",
              "  </tbody>\n",
              "</table>\n",
              "</div>\n",
              "      <button class=\"colab-df-convert\" onclick=\"convertToInteractive('df-5bc5717d-307a-44a9-b985-b6c7483ba18a')\"\n",
              "              title=\"Convert this dataframe to an interactive table.\"\n",
              "              style=\"display:none;\">\n",
              "        \n",
              "  <svg xmlns=\"http://www.w3.org/2000/svg\" height=\"24px\"viewBox=\"0 0 24 24\"\n",
              "       width=\"24px\">\n",
              "    <path d=\"M0 0h24v24H0V0z\" fill=\"none\"/>\n",
              "    <path d=\"M18.56 5.44l.94 2.06.94-2.06 2.06-.94-2.06-.94-.94-2.06-.94 2.06-2.06.94zm-11 1L8.5 8.5l.94-2.06 2.06-.94-2.06-.94L8.5 2.5l-.94 2.06-2.06.94zm10 10l.94 2.06.94-2.06 2.06-.94-2.06-.94-.94-2.06-.94 2.06-2.06.94z\"/><path d=\"M17.41 7.96l-1.37-1.37c-.4-.4-.92-.59-1.43-.59-.52 0-1.04.2-1.43.59L10.3 9.45l-7.72 7.72c-.78.78-.78 2.05 0 2.83L4 21.41c.39.39.9.59 1.41.59.51 0 1.02-.2 1.41-.59l7.78-7.78 2.81-2.81c.8-.78.8-2.07 0-2.86zM5.41 20L4 18.59l7.72-7.72 1.47 1.35L5.41 20z\"/>\n",
              "  </svg>\n",
              "      </button>\n",
              "      \n",
              "  <style>\n",
              "    .colab-df-container {\n",
              "      display:flex;\n",
              "      flex-wrap:wrap;\n",
              "      gap: 12px;\n",
              "    }\n",
              "\n",
              "    .colab-df-convert {\n",
              "      background-color: #E8F0FE;\n",
              "      border: none;\n",
              "      border-radius: 50%;\n",
              "      cursor: pointer;\n",
              "      display: none;\n",
              "      fill: #1967D2;\n",
              "      height: 32px;\n",
              "      padding: 0 0 0 0;\n",
              "      width: 32px;\n",
              "    }\n",
              "\n",
              "    .colab-df-convert:hover {\n",
              "      background-color: #E2EBFA;\n",
              "      box-shadow: 0px 1px 2px rgba(60, 64, 67, 0.3), 0px 1px 3px 1px rgba(60, 64, 67, 0.15);\n",
              "      fill: #174EA6;\n",
              "    }\n",
              "\n",
              "    [theme=dark] .colab-df-convert {\n",
              "      background-color: #3B4455;\n",
              "      fill: #D2E3FC;\n",
              "    }\n",
              "\n",
              "    [theme=dark] .colab-df-convert:hover {\n",
              "      background-color: #434B5C;\n",
              "      box-shadow: 0px 1px 3px 1px rgba(0, 0, 0, 0.15);\n",
              "      filter: drop-shadow(0px 1px 2px rgba(0, 0, 0, 0.3));\n",
              "      fill: #FFFFFF;\n",
              "    }\n",
              "  </style>\n",
              "\n",
              "      <script>\n",
              "        const buttonEl =\n",
              "          document.querySelector('#df-5bc5717d-307a-44a9-b985-b6c7483ba18a button.colab-df-convert');\n",
              "        buttonEl.style.display =\n",
              "          google.colab.kernel.accessAllowed ? 'block' : 'none';\n",
              "\n",
              "        async function convertToInteractive(key) {\n",
              "          const element = document.querySelector('#df-5bc5717d-307a-44a9-b985-b6c7483ba18a');\n",
              "          const dataTable =\n",
              "            await google.colab.kernel.invokeFunction('convertToInteractive',\n",
              "                                                     [key], {});\n",
              "          if (!dataTable) return;\n",
              "\n",
              "          const docLinkHtml = 'Like what you see? Visit the ' +\n",
              "            '<a target=\"_blank\" href=https://colab.research.google.com/notebooks/data_table.ipynb>data table notebook</a>'\n",
              "            + ' to learn more about interactive tables.';\n",
              "          element.innerHTML = '';\n",
              "          dataTable['output_type'] = 'display_data';\n",
              "          await google.colab.output.renderOutput(dataTable, element);\n",
              "          const docLink = document.createElement('div');\n",
              "          docLink.innerHTML = docLinkHtml;\n",
              "          element.appendChild(docLink);\n",
              "        }\n",
              "      </script>\n",
              "    </div>\n",
              "  </div>\n",
              "  "
            ],
            "application/vnd.google.colaboratory.module+javascript": "\n      import \"https://ssl.gstatic.com/colaboratory/data_table/fb998edc550c7947/data_table.js\";\n\n      window.createDataTable({\n        data: [[{\n            'v': 0,\n            'f': \"0\",\n        },\n\"Ordinary Least Squares\",\n{\n            'v': 0.9051315492089013,\n            'f': \"0.9051315492089013\",\n        },\n{\n            'v': 0.9117998641049946,\n            'f': \"0.9117998641049946\",\n        },\n\"N/A\"],\n [{\n            'v': 1,\n            'f': \"1\",\n        },\n\"Ordinary Least Squares\",\n{\n            'v': 0.4784890561648858,\n            'f': \"0.4784890561648858\",\n        },\n{\n            'v': 0.48341906879965646,\n            'f': \"0.48341906879965646\",\n        },\n\"Non-negative least squares\"],\n [{\n            'v': 2,\n            'f': \"2\",\n        },\n\"Ridge regression\",\n{\n            'v': 0.9051308089638727,\n            'f': \"0.9051308089638727\",\n        },\n{\n            'v': 0.9117880312403951,\n            'f': \"0.9117880312403951\",\n        },\n\"Alpha = 0.5\"],\n [{\n            'v': 3,\n            'f': \"3\",\n        },\n\"Ridge regression\",\n{\n            'v': 0.9051286268408282,\n            'f': \"0.9051286268408282\",\n        },\n{\n            'v': 0.9117748265960046,\n            'f': \"0.9117748265960046\",\n        },\n\"Alpha = 1\"],\n [{\n            'v': 4,\n            'f': \"4\",\n        },\n\"Ridge regression\",\n{\n            'v': 0.4784864538890634,\n            'f': \"0.4784864538890634\",\n        },\n{\n            'v': 0.4834114497666182,\n            'f': \"0.4834114497666182\",\n        },\n\"Alpha = 0.5 & Non-negative least squares\"],\n [{\n            'v': 5,\n            'f': \"5\",\n        },\n\"Ridge regression\",\n{\n            'v': 0.4784864351889129,\n            'f': \"0.4784864351889129\",\n        },\n{\n            'v': 0.4834114185282553,\n            'f': \"0.4834114185282553\",\n        },\n\"Alpha = 1 & Non-negative least squares\"],\n [{\n            'v': 6,\n            'f': \"6\",\n        },\n\"SVM\",\n{\n            'v': 0.916205702748646,\n            'f': \"0.916205702748646\",\n        },\n{\n            'v': 0.8734910244570196,\n            'f': \"0.8734910244570196\",\n        },\n\"kernel = rbf, C = 1 and gamma = auto\"],\n [{\n            'v': 7,\n            'f': \"7\",\n        },\n\"SVM\",\n{\n            'v': 0.9487374602696383,\n            'f': \"0.9487374602696383\",\n        },\n{\n            'v': 0.8776397460598966,\n            'f': \"0.8776397460598966\",\n        },\n\"kernel = rbf, C = 10 and gamma = auto\"],\n [{\n            'v': 8,\n            'f': \"8\",\n        },\n\"SVM\",\n{\n            'v': 0.9040638511080336,\n            'f': \"0.9040638511080336\",\n        },\n{\n            'v': 0.9111667015918447,\n            'f': \"0.9111667015918447\",\n        },\n\"kernel = linear, C = 1 and gamma = auto\"],\n [{\n            'v': 9,\n            'f': \"9\",\n        },\n\"SVM\",\n{\n            'v': 0.90390406732643,\n            'f': \"0.90390406732643\",\n        },\n{\n            'v': 0.9110299862238735,\n            'f': \"0.9110299862238735\",\n        },\n\"kernel = linear, C = 10 and gamma = auto\"],\n [{\n            'v': 10,\n            'f': \"10\",\n        },\n\"SVM\",\n{\n            'v': 0.9040638511080336,\n            'f': \"0.9040638511080336\",\n        },\n{\n            'v': 0.9111667015918447,\n            'f': \"0.9111667015918447\",\n        },\n\"kernel = linear, C = 10 and gamma = scale\"],\n [{\n            'v': 11,\n            'f': \"11\",\n        },\n\"KNN\",\n{\n            'v': 0.9548054039655087,\n            'f': \"0.9548054039655087\",\n        },\n{\n            'v': 0.8631960370408369,\n            'f': \"0.8631960370408369\",\n        },\n\"neighbors = 2, weights = uniform and  algorithm = auto\"],\n [{\n            'v': 12,\n            'f': \"12\",\n        },\n\"KNN\",\n{\n            'v': 0.890024824651885,\n            'f': \"0.890024824651885\",\n        },\n{\n            'v': 0.8904466450293657,\n            'f': \"0.8904466450293657\",\n        },\n\"neighbors = 200, weights = uniform and  algorithm = auto\"],\n [{\n            'v': 13,\n            'f': \"13\",\n        },\n\"KNN\",\n{\n            'v': 0.8757630048252196,\n            'f': \"0.8757630048252196\",\n        },\n{\n            'v': 0.8759713602669273,\n            'f': \"0.8759713602669273\",\n        },\n\"neighbors = 500, weights = uniform and  algorithm = auto\"],\n [{\n            'v': 14,\n            'f': \"14\",\n        },\n\"KNN\",\n{\n            'v': 0.8648139720359906,\n            'f': \"0.8648139720359906\",\n        },\n{\n            'v': 0.8642395514073742,\n            'f': \"0.8642395514073742\",\n        },\n\"neighbors = 750, weights = uniform and  algorithm = auto\"],\n [{\n            'v': 15,\n            'f': \"15\",\n        },\n\"KNN\",\n{\n            'v': 1.0,\n            'f': \"1.0\",\n        },\n{\n            'v': 0.8830868995245149,\n            'f': \"0.8830868995245149\",\n        },\n\"neighbors = 500, weights = distance and  algorithm = auto\"],\n [{\n            'v': 16,\n            'f': \"16\",\n        },\n\"Decision Tree Regressor\",\n{\n            'v': 0.9828190833173025,\n            'f': \"0.9828190833173025\",\n        },\n{\n            'v': 0.9081336306572073,\n            'f': \"0.9081336306572073\",\n        },\n\"n_estimators = 10, criterion = squared_error and max_depth = None\"],\n [{\n            'v': 17,\n            'f': \"17\",\n        },\n\"Decision Tree Regressor\",\n{\n            'v': 0.9879403503825652,\n            'f': \"0.9879403503825652\",\n        },\n{\n            'v': 0.9163927010791053,\n            'f': \"0.9163927010791053\",\n        },\n\"n_estimators = 100, criterion = squared_error and max_depth = None\"],\n [{\n            'v': 18,\n            'f': \"18\",\n        },\n\"Decision Tree Regressor\",\n{\n            'v': 0.9134736879151371,\n            'f': \"0.9134736879151371\",\n        },\n{\n            'v': 0.9061793960462,\n            'f': \"0.9061793960462\",\n        },\n\"n_estimators = 10, criterion = squared_error and max_depth = 5\"],\n [{\n            'v': 19,\n            'f': \"19\",\n        },\n\"Decision Tree Regressor\",\n{\n            'v': 0.9829249899000766,\n            'f': \"0.9829249899000766\",\n        },\n{\n            'v': 0.9094195236220874,\n            'f': \"0.9094195236220874\",\n        },\n\"n_estimators = 10, criterion = absolute_error and max_depth = None\"],\n [{\n            'v': 20,\n            'f': \"20\",\n        },\n\"Decision Tree Regressor\",\n{\n            'v': 0.9834283450506704,\n            'f': \"0.9834283450506704\",\n        },\n{\n            'v': 0.9069707170875831,\n            'f': \"0.9069707170875831\",\n        },\n\"n_estimators = 10, criterion = poisson and max_depth = None\"],\n [{\n            'v': 21,\n            'f': \"21\",\n        },\n\"Voting Regressor\",\n{\n            'v': 0.9509425140223953,\n            'f': \"0.9509425140223953\",\n        },\n{\n            'v': 0.9210515618840266,\n            'f': \"0.9210515618840266\",\n        },\n\"3 methods used\"]],\n        columns: [[\"number\", \"index\"], [\"string\", \"Model\"], [\"number\", \"Training Score\"], [\"number\", \"Testing Score\"], [\"string\", \"Details\"]],\n        columnOptions: [{\"width\": \"1px\", \"className\": \"index_column\"}],\n        rowsPerPage: 25,\n        helpUrl: \"https://colab.research.google.com/notebooks/data_table.ipynb\",\n        suppressOutputScrolling: true,\n        minimumWidth: undefined,\n      });\n    "
          },
          "metadata": {}
        },
        {
          "output_type": "stream",
          "name": "stdout",
          "text": [
            "=========================================================================================================\n",
            "Highest Training Score:\n"
          ]
        },
        {
          "output_type": "display_data",
          "data": {
            "text/plain": [
              "   Model  Training Score  Testing Score  \\\n",
              "15   KNN             1.0       0.883087   \n",
              "\n",
              "                                              Details  \n",
              "15  neighbors = 500, weights = distance and  algor...  "
            ],
            "text/html": [
              "\n",
              "  <div id=\"df-0919f459-9267-4e31-a713-4c1e1a45f0d2\">\n",
              "    <div class=\"colab-df-container\">\n",
              "      <div>\n",
              "<style scoped>\n",
              "    .dataframe tbody tr th:only-of-type {\n",
              "        vertical-align: middle;\n",
              "    }\n",
              "\n",
              "    .dataframe tbody tr th {\n",
              "        vertical-align: top;\n",
              "    }\n",
              "\n",
              "    .dataframe thead th {\n",
              "        text-align: right;\n",
              "    }\n",
              "</style>\n",
              "<table border=\"1\" class=\"dataframe\">\n",
              "  <thead>\n",
              "    <tr style=\"text-align: right;\">\n",
              "      <th></th>\n",
              "      <th>Model</th>\n",
              "      <th>Training Score</th>\n",
              "      <th>Testing Score</th>\n",
              "      <th>Details</th>\n",
              "    </tr>\n",
              "  </thead>\n",
              "  <tbody>\n",
              "    <tr>\n",
              "      <th>15</th>\n",
              "      <td>KNN</td>\n",
              "      <td>1.0</td>\n",
              "      <td>0.883087</td>\n",
              "      <td>neighbors = 500, weights = distance and  algor...</td>\n",
              "    </tr>\n",
              "  </tbody>\n",
              "</table>\n",
              "</div>\n",
              "      <button class=\"colab-df-convert\" onclick=\"convertToInteractive('df-0919f459-9267-4e31-a713-4c1e1a45f0d2')\"\n",
              "              title=\"Convert this dataframe to an interactive table.\"\n",
              "              style=\"display:none;\">\n",
              "        \n",
              "  <svg xmlns=\"http://www.w3.org/2000/svg\" height=\"24px\"viewBox=\"0 0 24 24\"\n",
              "       width=\"24px\">\n",
              "    <path d=\"M0 0h24v24H0V0z\" fill=\"none\"/>\n",
              "    <path d=\"M18.56 5.44l.94 2.06.94-2.06 2.06-.94-2.06-.94-.94-2.06-.94 2.06-2.06.94zm-11 1L8.5 8.5l.94-2.06 2.06-.94-2.06-.94L8.5 2.5l-.94 2.06-2.06.94zm10 10l.94 2.06.94-2.06 2.06-.94-2.06-.94-.94-2.06-.94 2.06-2.06.94z\"/><path d=\"M17.41 7.96l-1.37-1.37c-.4-.4-.92-.59-1.43-.59-.52 0-1.04.2-1.43.59L10.3 9.45l-7.72 7.72c-.78.78-.78 2.05 0 2.83L4 21.41c.39.39.9.59 1.41.59.51 0 1.02-.2 1.41-.59l7.78-7.78 2.81-2.81c.8-.78.8-2.07 0-2.86zM5.41 20L4 18.59l7.72-7.72 1.47 1.35L5.41 20z\"/>\n",
              "  </svg>\n",
              "      </button>\n",
              "      \n",
              "  <style>\n",
              "    .colab-df-container {\n",
              "      display:flex;\n",
              "      flex-wrap:wrap;\n",
              "      gap: 12px;\n",
              "    }\n",
              "\n",
              "    .colab-df-convert {\n",
              "      background-color: #E8F0FE;\n",
              "      border: none;\n",
              "      border-radius: 50%;\n",
              "      cursor: pointer;\n",
              "      display: none;\n",
              "      fill: #1967D2;\n",
              "      height: 32px;\n",
              "      padding: 0 0 0 0;\n",
              "      width: 32px;\n",
              "    }\n",
              "\n",
              "    .colab-df-convert:hover {\n",
              "      background-color: #E2EBFA;\n",
              "      box-shadow: 0px 1px 2px rgba(60, 64, 67, 0.3), 0px 1px 3px 1px rgba(60, 64, 67, 0.15);\n",
              "      fill: #174EA6;\n",
              "    }\n",
              "\n",
              "    [theme=dark] .colab-df-convert {\n",
              "      background-color: #3B4455;\n",
              "      fill: #D2E3FC;\n",
              "    }\n",
              "\n",
              "    [theme=dark] .colab-df-convert:hover {\n",
              "      background-color: #434B5C;\n",
              "      box-shadow: 0px 1px 3px 1px rgba(0, 0, 0, 0.15);\n",
              "      filter: drop-shadow(0px 1px 2px rgba(0, 0, 0, 0.3));\n",
              "      fill: #FFFFFF;\n",
              "    }\n",
              "  </style>\n",
              "\n",
              "      <script>\n",
              "        const buttonEl =\n",
              "          document.querySelector('#df-0919f459-9267-4e31-a713-4c1e1a45f0d2 button.colab-df-convert');\n",
              "        buttonEl.style.display =\n",
              "          google.colab.kernel.accessAllowed ? 'block' : 'none';\n",
              "\n",
              "        async function convertToInteractive(key) {\n",
              "          const element = document.querySelector('#df-0919f459-9267-4e31-a713-4c1e1a45f0d2');\n",
              "          const dataTable =\n",
              "            await google.colab.kernel.invokeFunction('convertToInteractive',\n",
              "                                                     [key], {});\n",
              "          if (!dataTable) return;\n",
              "\n",
              "          const docLinkHtml = 'Like what you see? Visit the ' +\n",
              "            '<a target=\"_blank\" href=https://colab.research.google.com/notebooks/data_table.ipynb>data table notebook</a>'\n",
              "            + ' to learn more about interactive tables.';\n",
              "          element.innerHTML = '';\n",
              "          dataTable['output_type'] = 'display_data';\n",
              "          await google.colab.output.renderOutput(dataTable, element);\n",
              "          const docLink = document.createElement('div');\n",
              "          docLink.innerHTML = docLinkHtml;\n",
              "          element.appendChild(docLink);\n",
              "        }\n",
              "      </script>\n",
              "    </div>\n",
              "  </div>\n",
              "  "
            ],
            "application/vnd.google.colaboratory.module+javascript": "\n      import \"https://ssl.gstatic.com/colaboratory/data_table/fb998edc550c7947/data_table.js\";\n\n      window.createDataTable({\n        data: [[{\n            'v': 15,\n            'f': \"15\",\n        },\n\"KNN\",\n{\n            'v': 1.0,\n            'f': \"1.0\",\n        },\n{\n            'v': 0.8830868995245149,\n            'f': \"0.8830868995245149\",\n        },\n\"neighbors = 500, weights = distance and  algorithm = auto\"]],\n        columns: [[\"number\", \"index\"], [\"string\", \"Model\"], [\"number\", \"Training Score\"], [\"number\", \"Testing Score\"], [\"string\", \"Details\"]],\n        columnOptions: [{\"width\": \"1px\", \"className\": \"index_column\"}],\n        rowsPerPage: 25,\n        helpUrl: \"https://colab.research.google.com/notebooks/data_table.ipynb\",\n        suppressOutputScrolling: true,\n        minimumWidth: undefined,\n      });\n    "
          },
          "metadata": {}
        },
        {
          "output_type": "stream",
          "name": "stdout",
          "text": [
            "=========================================================================================================\n",
            "Highest Testing Score:\n"
          ]
        },
        {
          "output_type": "display_data",
          "data": {
            "text/plain": [
              "               Model  Training Score  Testing Score         Details\n",
              "21  Voting Regressor        0.950943       0.921052  3 methods used"
            ],
            "text/html": [
              "\n",
              "  <div id=\"df-15116940-e312-47f9-8f03-e343ea3e7a21\">\n",
              "    <div class=\"colab-df-container\">\n",
              "      <div>\n",
              "<style scoped>\n",
              "    .dataframe tbody tr th:only-of-type {\n",
              "        vertical-align: middle;\n",
              "    }\n",
              "\n",
              "    .dataframe tbody tr th {\n",
              "        vertical-align: top;\n",
              "    }\n",
              "\n",
              "    .dataframe thead th {\n",
              "        text-align: right;\n",
              "    }\n",
              "</style>\n",
              "<table border=\"1\" class=\"dataframe\">\n",
              "  <thead>\n",
              "    <tr style=\"text-align: right;\">\n",
              "      <th></th>\n",
              "      <th>Model</th>\n",
              "      <th>Training Score</th>\n",
              "      <th>Testing Score</th>\n",
              "      <th>Details</th>\n",
              "    </tr>\n",
              "  </thead>\n",
              "  <tbody>\n",
              "    <tr>\n",
              "      <th>21</th>\n",
              "      <td>Voting Regressor</td>\n",
              "      <td>0.950943</td>\n",
              "      <td>0.921052</td>\n",
              "      <td>3 methods used</td>\n",
              "    </tr>\n",
              "  </tbody>\n",
              "</table>\n",
              "</div>\n",
              "      <button class=\"colab-df-convert\" onclick=\"convertToInteractive('df-15116940-e312-47f9-8f03-e343ea3e7a21')\"\n",
              "              title=\"Convert this dataframe to an interactive table.\"\n",
              "              style=\"display:none;\">\n",
              "        \n",
              "  <svg xmlns=\"http://www.w3.org/2000/svg\" height=\"24px\"viewBox=\"0 0 24 24\"\n",
              "       width=\"24px\">\n",
              "    <path d=\"M0 0h24v24H0V0z\" fill=\"none\"/>\n",
              "    <path d=\"M18.56 5.44l.94 2.06.94-2.06 2.06-.94-2.06-.94-.94-2.06-.94 2.06-2.06.94zm-11 1L8.5 8.5l.94-2.06 2.06-.94-2.06-.94L8.5 2.5l-.94 2.06-2.06.94zm10 10l.94 2.06.94-2.06 2.06-.94-2.06-.94-.94-2.06-.94 2.06-2.06.94z\"/><path d=\"M17.41 7.96l-1.37-1.37c-.4-.4-.92-.59-1.43-.59-.52 0-1.04.2-1.43.59L10.3 9.45l-7.72 7.72c-.78.78-.78 2.05 0 2.83L4 21.41c.39.39.9.59 1.41.59.51 0 1.02-.2 1.41-.59l7.78-7.78 2.81-2.81c.8-.78.8-2.07 0-2.86zM5.41 20L4 18.59l7.72-7.72 1.47 1.35L5.41 20z\"/>\n",
              "  </svg>\n",
              "      </button>\n",
              "      \n",
              "  <style>\n",
              "    .colab-df-container {\n",
              "      display:flex;\n",
              "      flex-wrap:wrap;\n",
              "      gap: 12px;\n",
              "    }\n",
              "\n",
              "    .colab-df-convert {\n",
              "      background-color: #E8F0FE;\n",
              "      border: none;\n",
              "      border-radius: 50%;\n",
              "      cursor: pointer;\n",
              "      display: none;\n",
              "      fill: #1967D2;\n",
              "      height: 32px;\n",
              "      padding: 0 0 0 0;\n",
              "      width: 32px;\n",
              "    }\n",
              "\n",
              "    .colab-df-convert:hover {\n",
              "      background-color: #E2EBFA;\n",
              "      box-shadow: 0px 1px 2px rgba(60, 64, 67, 0.3), 0px 1px 3px 1px rgba(60, 64, 67, 0.15);\n",
              "      fill: #174EA6;\n",
              "    }\n",
              "\n",
              "    [theme=dark] .colab-df-convert {\n",
              "      background-color: #3B4455;\n",
              "      fill: #D2E3FC;\n",
              "    }\n",
              "\n",
              "    [theme=dark] .colab-df-convert:hover {\n",
              "      background-color: #434B5C;\n",
              "      box-shadow: 0px 1px 3px 1px rgba(0, 0, 0, 0.15);\n",
              "      filter: drop-shadow(0px 1px 2px rgba(0, 0, 0, 0.3));\n",
              "      fill: #FFFFFF;\n",
              "    }\n",
              "  </style>\n",
              "\n",
              "      <script>\n",
              "        const buttonEl =\n",
              "          document.querySelector('#df-15116940-e312-47f9-8f03-e343ea3e7a21 button.colab-df-convert');\n",
              "        buttonEl.style.display =\n",
              "          google.colab.kernel.accessAllowed ? 'block' : 'none';\n",
              "\n",
              "        async function convertToInteractive(key) {\n",
              "          const element = document.querySelector('#df-15116940-e312-47f9-8f03-e343ea3e7a21');\n",
              "          const dataTable =\n",
              "            await google.colab.kernel.invokeFunction('convertToInteractive',\n",
              "                                                     [key], {});\n",
              "          if (!dataTable) return;\n",
              "\n",
              "          const docLinkHtml = 'Like what you see? Visit the ' +\n",
              "            '<a target=\"_blank\" href=https://colab.research.google.com/notebooks/data_table.ipynb>data table notebook</a>'\n",
              "            + ' to learn more about interactive tables.';\n",
              "          element.innerHTML = '';\n",
              "          dataTable['output_type'] = 'display_data';\n",
              "          await google.colab.output.renderOutput(dataTable, element);\n",
              "          const docLink = document.createElement('div');\n",
              "          docLink.innerHTML = docLinkHtml;\n",
              "          element.appendChild(docLink);\n",
              "        }\n",
              "      </script>\n",
              "    </div>\n",
              "  </div>\n",
              "  "
            ],
            "application/vnd.google.colaboratory.module+javascript": "\n      import \"https://ssl.gstatic.com/colaboratory/data_table/fb998edc550c7947/data_table.js\";\n\n      window.createDataTable({\n        data: [[{\n            'v': 21,\n            'f': \"21\",\n        },\n\"Voting Regressor\",\n{\n            'v': 0.9509425140223953,\n            'f': \"0.9509425140223953\",\n        },\n{\n            'v': 0.9210515618840266,\n            'f': \"0.9210515618840266\",\n        },\n\"3 methods used\"]],\n        columns: [[\"number\", \"index\"], [\"string\", \"Model\"], [\"number\", \"Training Score\"], [\"number\", \"Testing Score\"], [\"string\", \"Details\"]],\n        columnOptions: [{\"width\": \"1px\", \"className\": \"index_column\"}],\n        rowsPerPage: 25,\n        helpUrl: \"https://colab.research.google.com/notebooks/data_table.ipynb\",\n        suppressOutputScrolling: true,\n        minimumWidth: undefined,\n      });\n    "
          },
          "metadata": {}
        }
      ]
    },
    {
      "cell_type": "code",
      "source": [
        "print(\"Decision Tree Regression - importances features\")\n",
        "a, b = DTRegressor (X_train, X_test, y_train, y_test, True, True, 100, \"squared_error\", None)"
      ],
      "metadata": {
        "colab": {
          "base_uri": "https://localhost:8080/",
          "height": 405
        },
        "outputId": "d6c06bc2-ef32-49a8-dcb0-9a807f07a455",
        "id": "v_dxGevaWvSS"
      },
      "execution_count": null,
      "outputs": [
        {
          "output_type": "stream",
          "name": "stdout",
          "text": [
            "Decision Tree Regression - importances features\n",
            "Train score=  0.9879105446485966\n",
            "Test score=  0.9157241246565637\n",
            "Showing importances features classification:\n"
          ]
        },
        {
          "output_type": "display_data",
          "data": {
            "text/plain": [
              "<Figure size 432x288 with 1 Axes>"
            ],
            "image/png": "[encoded data removed]"
          },
          "metadata": {}
        }
      ]
    },
    {
      "cell_type": "markdown",
      "source": [
        "###Concluciones del Caso 2"
      ],
      "metadata": {
        "id": "WC8Jvs5VWvSS"
      }
    },
    {
      "cell_type": "markdown",
      "source": [
        "En base a las pruebas realizadas y los datos seleccionados se tiene que el mejor resultado lo tiene el Metodo de Emsamble Voting Regressor, ya que tiene los Scores (training & testing) mas altos de manera balanceada. Ademas, basado en el grafico de las caracteristicas mas importantes, en la celda anterior, humedad relativa es la caracteristica predominante para predecir temperatura maxima."
      ],
      "metadata": {
        "id": "FD7xTjazWvSS"
      }
    },
    {
      "cell_type": "markdown",
      "source": [
        "##Conclusion Final"
      ],
      "metadata": {
        "id": "mCct_ciAefnM"
      }
    },
    {
      "cell_type": "markdown",
      "source": [
        "Basado en los datos y los metodos probados, el altgoritmo con mejor resultado fue el metodo de ensable Voting Regressor, para ambos casos."
      ],
      "metadata": {
        "id": "4vJYkoeweh3p"
      }
    },
    {
      "cell_type": "markdown",
      "source": [
        "##Analisis Adicionales"
      ],
      "metadata": {
        "id": "F-_jFhk2hLLS"
      }
    },
    {
      "cell_type": "markdown",
      "source": [
        "###Observar el comportamiento de KNN con diferentes valores de neighbors"
      ],
      "metadata": {
        "id": "wjbc3S3ChRUF"
      }
    },
    {
      "cell_type": "code",
      "source": [
        "#Creacion de un DataFrame para almacenar los difernetes Scores \n",
        "import pandas as pd\n",
        "\n",
        "#Definicion de columnas\n",
        "columnsKNN = ['Model', 'Training Score', 'Testing Score', 'Neighbors']\n",
        "\n",
        "# Creacion del Data Frame vacio\n",
        "dfScoresKNN = pd.DataFrame(columns = columnsKNN)"
      ],
      "metadata": {
        "id": "ccJE7zuHhP66"
      },
      "execution_count": null,
      "outputs": []
    },
    {
      "cell_type": "code",
      "source": [
        "Neighbors = [1, 10, 100, 500, 750, 1000]\n",
        "\n",
        "for j in Neighbors:\n",
        "  #Se usa la misma funcion utilizada anteriormente para KNN KNeighbors Regressor\n",
        "  a, b = kNNRegression(X_train, X_test, y_train, y_test, False, j, \"uniform\", \"auto\")\n",
        "  dfScoresKNN = dfScoresKNN.append({'Model': \"KNN\", 'Training Score' : a, 'Testing Score' : b, 'Neighbors': j}, ignore_index = True)\n",
        "\n",
        "display(dfScoresKNN)"
      ],
      "metadata": {
        "id": "aZRmW9jwe7ZQ",
        "colab": {
          "base_uri": "https://localhost:8080/",
          "height": 219
        },
        "outputId": "81d71ac4-ea18-4eef-d6c4-64a5593f8923"
      },
      "execution_count": null,
      "outputs": [
        {
          "output_type": "display_data",
          "data": {
            "text/plain": [
              "  Model  Training Score  Testing Score Neighbors\n",
              "0   KNN        1.000000       0.813849         1\n",
              "1   KNN        0.915378       0.897309        10\n",
              "2   KNN        0.897359       0.896647       100\n",
              "3   KNN        0.875763       0.875971       500\n",
              "4   KNN        0.864814       0.864240       750\n",
              "5   KNN        0.854353       0.853301      1000"
            ],
            "text/html": [
              "\n",
              "  <div id=\"df-fa89011d-221b-4893-a815-30516cdd3895\">\n",
              "    <div class=\"colab-df-container\">\n",
              "      <div>\n",
              "<style scoped>\n",
              "    .dataframe tbody tr th:only-of-type {\n",
              "        vertical-align: middle;\n",
              "    }\n",
              "\n",
              "    .dataframe tbody tr th {\n",
              "        vertical-align: top;\n",
              "    }\n",
              "\n",
              "    .dataframe thead th {\n",
              "        text-align: right;\n",
              "    }\n",
              "</style>\n",
              "<table border=\"1\" class=\"dataframe\">\n",
              "  <thead>\n",
              "    <tr style=\"text-align: right;\">\n",
              "      <th></th>\n",
              "      <th>Model</th>\n",
              "      <th>Training Score</th>\n",
              "      <th>Testing Score</th>\n",
              "      <th>Neighbors</th>\n",
              "    </tr>\n",
              "  </thead>\n",
              "  <tbody>\n",
              "    <tr>\n",
              "      <th>0</th>\n",
              "      <td>KNN</td>\n",
              "      <td>1.000000</td>\n",
              "      <td>0.813849</td>\n",
              "      <td>1</td>\n",
              "    </tr>\n",
              "    <tr>\n",
              "      <th>1</th>\n",
              "      <td>KNN</td>\n",
              "      <td>0.915378</td>\n",
              "      <td>0.897309</td>\n",
              "      <td>10</td>\n",
              "    </tr>\n",
              "    <tr>\n",
              "      <th>2</th>\n",
              "      <td>KNN</td>\n",
              "      <td>0.897359</td>\n",
              "      <td>0.896647</td>\n",
              "      <td>100</td>\n",
              "    </tr>\n",
              "    <tr>\n",
              "      <th>3</th>\n",
              "      <td>KNN</td>\n",
              "      <td>0.875763</td>\n",
              "      <td>0.875971</td>\n",
              "      <td>500</td>\n",
              "    </tr>\n",
              "    <tr>\n",
              "      <th>4</th>\n",
              "      <td>KNN</td>\n",
              "      <td>0.864814</td>\n",
              "      <td>0.864240</td>\n",
              "      <td>750</td>\n",
              "    </tr>\n",
              "    <tr>\n",
              "      <th>5</th>\n",
              "      <td>KNN</td>\n",
              "      <td>0.854353</td>\n",
              "      <td>0.853301</td>\n",
              "      <td>1000</td>\n",
              "    </tr>\n",
              "  </tbody>\n",
              "</table>\n",
              "</div>\n",
              "      <button class=\"colab-df-convert\" onclick=\"convertToInteractive('df-fa89011d-221b-4893-a815-30516cdd3895')\"\n",
              "              title=\"Convert this dataframe to an interactive table.\"\n",
              "              style=\"display:none;\">\n",
              "        \n",
              "  <svg xmlns=\"http://www.w3.org/2000/svg\" height=\"24px\"viewBox=\"0 0 24 24\"\n",
              "       width=\"24px\">\n",
              "    <path d=\"M0 0h24v24H0V0z\" fill=\"none\"/>\n",
              "    <path d=\"M18.56 5.44l.94 2.06.94-2.06 2.06-.94-2.06-.94-.94-2.06-.94 2.06-2.06.94zm-11 1L8.5 8.5l.94-2.06 2.06-.94-2.06-.94L8.5 2.5l-.94 2.06-2.06.94zm10 10l.94 2.06.94-2.06 2.06-.94-2.06-.94-.94-2.06-.94 2.06-2.06.94z\"/><path d=\"M17.41 7.96l-1.37-1.37c-.4-.4-.92-.59-1.43-.59-.52 0-1.04.2-1.43.59L10.3 9.45l-7.72 7.72c-.78.78-.78 2.05 0 2.83L4 21.41c.39.39.9.59 1.41.59.51 0 1.02-.2 1.41-.59l7.78-7.78 2.81-2.81c.8-.78.8-2.07 0-2.86zM5.41 20L4 18.59l7.72-7.72 1.47 1.35L5.41 20z\"/>\n",
              "  </svg>\n",
              "      </button>\n",
              "      \n",
              "  <style>\n",
              "    .colab-df-container {\n",
              "      display:flex;\n",
              "      flex-wrap:wrap;\n",
              "      gap: 12px;\n",
              "    }\n",
              "\n",
              "    .colab-df-convert {\n",
              "      background-color: #E8F0FE;\n",
              "      border: none;\n",
              "      border-radius: 50%;\n",
              "      cursor: pointer;\n",
              "      display: none;\n",
              "      fill: #1967D2;\n",
              "      height: 32px;\n",
              "      padding: 0 0 0 0;\n",
              "      width: 32px;\n",
              "    }\n",
              "\n",
              "    .colab-df-convert:hover {\n",
              "      background-color: #E2EBFA;\n",
              "      box-shadow: 0px 1px 2px rgba(60, 64, 67, 0.3), 0px 1px 3px 1px rgba(60, 64, 67, 0.15);\n",
              "      fill: #174EA6;\n",
              "    }\n",
              "\n",
              "    [theme=dark] .colab-df-convert {\n",
              "      background-color: #3B4455;\n",
              "      fill: #D2E3FC;\n",
              "    }\n",
              "\n",
              "    [theme=dark] .colab-df-convert:hover {\n",
              "      background-color: #434B5C;\n",
              "      box-shadow: 0px 1px 3px 1px rgba(0, 0, 0, 0.15);\n",
              "      filter: drop-shadow(0px 1px 2px rgba(0, 0, 0, 0.3));\n",
              "      fill: #FFFFFF;\n",
              "    }\n",
              "  </style>\n",
              "\n",
              "      <script>\n",
              "        const buttonEl =\n",
              "          document.querySelector('#df-fa89011d-221b-4893-a815-30516cdd3895 button.colab-df-convert');\n",
              "        buttonEl.style.display =\n",
              "          google.colab.kernel.accessAllowed ? 'block' : 'none';\n",
              "\n",
              "        async function convertToInteractive(key) {\n",
              "          const element = document.querySelector('#df-fa89011d-221b-4893-a815-30516cdd3895');\n",
              "          const dataTable =\n",
              "            await google.colab.kernel.invokeFunction('convertToInteractive',\n",
              "                                                     [key], {});\n",
              "          if (!dataTable) return;\n",
              "\n",
              "          const docLinkHtml = 'Like what you see? Visit the ' +\n",
              "            '<a target=\"_blank\" href=https://colab.research.google.com/notebooks/data_table.ipynb>data table notebook</a>'\n",
              "            + ' to learn more about interactive tables.';\n",
              "          element.innerHTML = '';\n",
              "          dataTable['output_type'] = 'display_data';\n",
              "          await google.colab.output.renderOutput(dataTable, element);\n",
              "          const docLink = document.createElement('div');\n",
              "          docLink.innerHTML = docLinkHtml;\n",
              "          element.appendChild(docLink);\n",
              "        }\n",
              "      </script>\n",
              "    </div>\n",
              "  </div>\n",
              "  "
            ],
            "application/vnd.google.colaboratory.module+javascript": "\n      import \"https://ssl.gstatic.com/colaboratory/data_table/fb998edc550c7947/data_table.js\";\n\n      window.createDataTable({\n        data: [[{\n            'v': 0,\n            'f': \"0\",\n        },\n\"KNN\",\n{\n            'v': 1.0,\n            'f': \"1.0\",\n        },\n{\n            'v': 0.813849274823664,\n            'f': \"0.813849274823664\",\n        },\n{\n            'v': 1,\n            'f': \"1\",\n        }],\n [{\n            'v': 1,\n            'f': \"1\",\n        },\n\"KNN\",\n{\n            'v': 0.915378426690835,\n            'f': \"0.915378426690835\",\n        },\n{\n            'v': 0.8973091072139113,\n            'f': \"0.8973091072139113\",\n        },\n{\n            'v': 10,\n            'f': \"10\",\n        }],\n [{\n            'v': 2,\n            'f': \"2\",\n        },\n\"KNN\",\n{\n            'v': 0.8973592711264844,\n            'f': \"0.8973592711264844\",\n        },\n{\n            'v': 0.8966473261601186,\n            'f': \"0.8966473261601186\",\n        },\n{\n            'v': 100,\n            'f': \"100\",\n        }],\n [{\n            'v': 3,\n            'f': \"3\",\n        },\n\"KNN\",\n{\n            'v': 0.8757630048252196,\n            'f': \"0.8757630048252196\",\n        },\n{\n            'v': 0.8759713602669273,\n            'f': \"0.8759713602669273\",\n        },\n{\n            'v': 500,\n            'f': \"500\",\n        }],\n [{\n            'v': 4,\n            'f': \"4\",\n        },\n\"KNN\",\n{\n            'v': 0.8648139720359906,\n            'f': \"0.8648139720359906\",\n        },\n{\n            'v': 0.8642395514073742,\n            'f': \"0.8642395514073742\",\n        },\n{\n            'v': 750,\n            'f': \"750\",\n        }],\n [{\n            'v': 5,\n            'f': \"5\",\n        },\n\"KNN\",\n{\n            'v': 0.8543529057841919,\n            'f': \"0.8543529057841919\",\n        },\n{\n            'v': 0.8533011810051723,\n            'f': \"0.8533011810051723\",\n        },\n{\n            'v': 1000,\n            'f': \"1000\",\n        }]],\n        columns: [[\"number\", \"index\"], [\"string\", \"Model\"], [\"number\", \"Training Score\"], [\"number\", \"Testing Score\"], [\"number\", \"Neighbors\"]],\n        columnOptions: [{\"width\": \"1px\", \"className\": \"index_column\"}],\n        rowsPerPage: 25,\n        helpUrl: \"https://colab.research.google.com/notebooks/data_table.ipynb\",\n        suppressOutputScrolling: true,\n        minimumWidth: undefined,\n      });\n    "
          },
          "metadata": {}
        }
      ]
    },
    {
      "cell_type": "code",
      "source": [
        "# importing package\n",
        "import matplotlib.pyplot as plt\n",
        "  \n",
        "x0 = dfScoresKNN['Neighbors']\n",
        "y1 = dfScoresKNN['Training Score']\n",
        "y2 = dfScoresKNN['Testing Score']\n",
        "  \n",
        "# plot lines\n",
        "plt.plot(x0, y1, label = \"Training Score\", marker='o')\n",
        "plt.plot(x0, y2, label = \"Testing Score\", marker='o')\n",
        "plt.ylim([0.85, 1])\n",
        "plt.title(\"Relation between Neighbors and Scores in a KNN Regression\")\n",
        "plt.xlabel(\"Neighbors\")\n",
        "plt.ylabel(\"Scores\")\n",
        "plt.legend()\n",
        "plt.show()"
      ],
      "metadata": {
        "colab": {
          "base_uri": "https://localhost:8080/",
          "height": 299
        },
        "id": "OiYZwY5jlC7x",
        "outputId": "07095d5f-a924-47ed-936d-e580297e91cc"
      },
      "execution_count": null,
      "outputs": [
        {
          "output_type": "display_data",
          "data": {
            "text/plain": [
              "<Figure size 432x288 with 1 Axes>"
            ],
            "image/png": "[encoded data removed]"
          },
          "metadata": {}
        }
      ]
    },
    {
      "cell_type": "markdown",
      "source": [
        "**Conclusion:** Basado en la tabla de los Scores obtenidos con diferentes Neighbors, el mejor caso fue cuando se establecio dicho hyper-parametro con valor de 10, ya que fue donde se obtuvo los Scores (Train & Test) mas similares."
      ],
      "metadata": {
        "id": "11PcRMLcKxgB"
      }
    },
    {
      "cell_type": "markdown",
      "source": [
        "###Observar el comportamiento de Decision Tree Regressor con diferentes valores de n_estimators"
      ],
      "metadata": {
        "id": "wLW7OhkDnkkL"
      }
    },
    {
      "cell_type": "code",
      "source": [
        "#Creacion de un DataFrame para almacenar los difernetes Scores \n",
        "import pandas as pd\n",
        "\n",
        "#Definicion de columnas\n",
        "columnsDTR = ['Model', 'Training Score', 'Testing Score', 'n_estimators']\n",
        "\n",
        "# Creacion del Data Frame vacio\n",
        "dfScoresDTR = pd.DataFrame(columns = columnsDTR)"
      ],
      "metadata": {
        "id": "NMXEUQnin30k"
      },
      "execution_count": null,
      "outputs": []
    },
    {
      "cell_type": "code",
      "source": [
        "n_estimators = [1, 10, 50, 100, 250, 500]\n",
        "\n",
        "for j in n_estimators:\n",
        "  #Se usa la misma funcion utilizada anteriormente para Decision Tree Regressor\n",
        "  a, b = DTRegressor (X_train, X_test, y_train, y_test, False, False, j, \"squared_error\", None)  \n",
        "  dfScoresDTR = dfScoresDTR.append({'Model': \"DTR\", 'Training Score' : a, 'Testing Score' : b, 'n_estimators': j}, ignore_index = True)\n",
        "\n",
        "display(dfScoresDTR)"
      ],
      "metadata": {
        "colab": {
          "base_uri": "https://localhost:8080/",
          "height": 219
        },
        "id": "vTLWjpKEoEkp",
        "outputId": "97a370b8-4acf-415b-b27f-2f44713a457c"
      },
      "execution_count": null,
      "outputs": [
        {
          "output_type": "display_data",
          "data": {
            "text/plain": [
              "  Model  Training Score  Testing Score n_estimators\n",
              "0   DTR        0.941752       0.835664            1\n",
              "1   DTR        0.983506       0.907939           10\n",
              "2   DTR        0.987828       0.915170           50\n",
              "3   DTR        0.988104       0.915803          100\n",
              "4   DTR        0.988287       0.915970          250\n",
              "5   DTR        0.988302       0.916370          500"
            ],
            "text/html": [
              "\n",
              "  <div id=\"df-114ba54a-16d8-44fe-89f2-2d31e73332ba\">\n",
              "    <div class=\"colab-df-container\">\n",
              "      <div>\n",
              "<style scoped>\n",
              "    .dataframe tbody tr th:only-of-type {\n",
              "        vertical-align: middle;\n",
              "    }\n",
              "\n",
              "    .dataframe tbody tr th {\n",
              "        vertical-align: top;\n",
              "    }\n",
              "\n",
              "    .dataframe thead th {\n",
              "        text-align: right;\n",
              "    }\n",
              "</style>\n",
              "<table border=\"1\" class=\"dataframe\">\n",
              "  <thead>\n",
              "    <tr style=\"text-align: right;\">\n",
              "      <th></th>\n",
              "      <th>Model</th>\n",
              "      <th>Training Score</th>\n",
              "      <th>Testing Score</th>\n",
              "      <th>n_estimators</th>\n",
              "    </tr>\n",
              "  </thead>\n",
              "  <tbody>\n",
              "    <tr>\n",
              "      <th>0</th>\n",
              "      <td>DTR</td>\n",
              "      <td>0.941752</td>\n",
              "      <td>0.835664</td>\n",
              "      <td>1</td>\n",
              "    </tr>\n",
              "    <tr>\n",
              "      <th>1</th>\n",
              "      <td>DTR</td>\n",
              "      <td>0.983506</td>\n",
              "      <td>0.907939</td>\n",
              "      <td>10</td>\n",
              "    </tr>\n",
              "    <tr>\n",
              "      <th>2</th>\n",
              "      <td>DTR</td>\n",
              "      <td>0.987828</td>\n",
              "      <td>0.915170</td>\n",
              "      <td>50</td>\n",
              "    </tr>\n",
              "    <tr>\n",
              "      <th>3</th>\n",
              "      <td>DTR</td>\n",
              "      <td>0.988104</td>\n",
              "      <td>0.915803</td>\n",
              "      <td>100</td>\n",
              "    </tr>\n",
              "    <tr>\n",
              "      <th>4</th>\n",
              "      <td>DTR</td>\n",
              "      <td>0.988287</td>\n",
              "      <td>0.915970</td>\n",
              "      <td>250</td>\n",
              "    </tr>\n",
              "    <tr>\n",
              "      <th>5</th>\n",
              "      <td>DTR</td>\n",
              "      <td>0.988302</td>\n",
              "      <td>0.916370</td>\n",
              "      <td>500</td>\n",
              "    </tr>\n",
              "  </tbody>\n",
              "</table>\n",
              "</div>\n",
              "      <button class=\"colab-df-convert\" onclick=\"convertToInteractive('df-114ba54a-16d8-44fe-89f2-2d31e73332ba')\"\n",
              "              title=\"Convert this dataframe to an interactive table.\"\n",
              "              style=\"display:none;\">\n",
              "        \n",
              "  <svg xmlns=\"http://www.w3.org/2000/svg\" height=\"24px\"viewBox=\"0 0 24 24\"\n",
              "       width=\"24px\">\n",
              "    <path d=\"M0 0h24v24H0V0z\" fill=\"none\"/>\n",
              "    <path d=\"M18.56 5.44l.94 2.06.94-2.06 2.06-.94-2.06-.94-.94-2.06-.94 2.06-2.06.94zm-11 1L8.5 8.5l.94-2.06 2.06-.94-2.06-.94L8.5 2.5l-.94 2.06-2.06.94zm10 10l.94 2.06.94-2.06 2.06-.94-2.06-.94-.94-2.06-.94 2.06-2.06.94z\"/><path d=\"M17.41 7.96l-1.37-1.37c-.4-.4-.92-.59-1.43-.59-.52 0-1.04.2-1.43.59L10.3 9.45l-7.72 7.72c-.78.78-.78 2.05 0 2.83L4 21.41c.39.39.9.59 1.41.59.51 0 1.02-.2 1.41-.59l7.78-7.78 2.81-2.81c.8-.78.8-2.07 0-2.86zM5.41 20L4 18.59l7.72-7.72 1.47 1.35L5.41 20z\"/>\n",
              "  </svg>\n",
              "      </button>\n",
              "      \n",
              "  <style>\n",
              "    .colab-df-container {\n",
              "      display:flex;\n",
              "      flex-wrap:wrap;\n",
              "      gap: 12px;\n",
              "    }\n",
              "\n",
              "    .colab-df-convert {\n",
              "      background-color: #E8F0FE;\n",
              "      border: none;\n",
              "      border-radius: 50%;\n",
              "      cursor: pointer;\n",
              "      display: none;\n",
              "      fill: #1967D2;\n",
              "      height: 32px;\n",
              "      padding: 0 0 0 0;\n",
              "      width: 32px;\n",
              "    }\n",
              "\n",
              "    .colab-df-convert:hover {\n",
              "      background-color: #E2EBFA;\n",
              "      box-shadow: 0px 1px 2px rgba(60, 64, 67, 0.3), 0px 1px 3px 1px rgba(60, 64, 67, 0.15);\n",
              "      fill: #174EA6;\n",
              "    }\n",
              "\n",
              "    [theme=dark] .colab-df-convert {\n",
              "      background-color: #3B4455;\n",
              "      fill: #D2E3FC;\n",
              "    }\n",
              "\n",
              "    [theme=dark] .colab-df-convert:hover {\n",
              "      background-color: #434B5C;\n",
              "      box-shadow: 0px 1px 3px 1px rgba(0, 0, 0, 0.15);\n",
              "      filter: drop-shadow(0px 1px 2px rgba(0, 0, 0, 0.3));\n",
              "      fill: #FFFFFF;\n",
              "    }\n",
              "  </style>\n",
              "\n",
              "      <script>\n",
              "        const buttonEl =\n",
              "          document.querySelector('#df-114ba54a-16d8-44fe-89f2-2d31e73332ba button.colab-df-convert');\n",
              "        buttonEl.style.display =\n",
              "          google.colab.kernel.accessAllowed ? 'block' : 'none';\n",
              "\n",
              "        async function convertToInteractive(key) {\n",
              "          const element = document.querySelector('#df-114ba54a-16d8-44fe-89f2-2d31e73332ba');\n",
              "          const dataTable =\n",
              "            await google.colab.kernel.invokeFunction('convertToInteractive',\n",
              "                                                     [key], {});\n",
              "          if (!dataTable) return;\n",
              "\n",
              "          const docLinkHtml = 'Like what you see? Visit the ' +\n",
              "            '<a target=\"_blank\" href=https://colab.research.google.com/notebooks/data_table.ipynb>data table notebook</a>'\n",
              "            + ' to learn more about interactive tables.';\n",
              "          element.innerHTML = '';\n",
              "          dataTable['output_type'] = 'display_data';\n",
              "          await google.colab.output.renderOutput(dataTable, element);\n",
              "          const docLink = document.createElement('div');\n",
              "          docLink.innerHTML = docLinkHtml;\n",
              "          element.appendChild(docLink);\n",
              "        }\n",
              "      </script>\n",
              "    </div>\n",
              "  </div>\n",
              "  "
            ],
            "application/vnd.google.colaboratory.module+javascript": "\n      import \"https://ssl.gstatic.com/colaboratory/data_table/fb998edc550c7947/data_table.js\";\n\n      window.createDataTable({\n        data: [[{\n            'v': 0,\n            'f': \"0\",\n        },\n\"DTR\",\n{\n            'v': 0.9417518289003338,\n            'f': \"0.9417518289003338\",\n        },\n{\n            'v': 0.8356638074310859,\n            'f': \"0.8356638074310859\",\n        },\n{\n            'v': 1,\n            'f': \"1\",\n        }],\n [{\n            'v': 1,\n            'f': \"1\",\n        },\n\"DTR\",\n{\n            'v': 0.9835059973076336,\n            'f': \"0.9835059973076336\",\n        },\n{\n            'v': 0.9079385457444017,\n            'f': \"0.9079385457444017\",\n        },\n{\n            'v': 10,\n            'f': \"10\",\n        }],\n [{\n            'v': 2,\n            'f': \"2\",\n        },\n\"DTR\",\n{\n            'v': 0.9878275876412285,\n            'f': \"0.9878275876412285\",\n        },\n{\n            'v': 0.915170123745333,\n            'f': \"0.915170123745333\",\n        },\n{\n            'v': 50,\n            'f': \"50\",\n        }],\n [{\n            'v': 3,\n            'f': \"3\",\n        },\n\"DTR\",\n{\n            'v': 0.9881036513193499,\n            'f': \"0.9881036513193499\",\n        },\n{\n            'v': 0.9158032597551335,\n            'f': \"0.9158032597551335\",\n        },\n{\n            'v': 100,\n            'f': \"100\",\n        }],\n [{\n            'v': 4,\n            'f': \"4\",\n        },\n\"DTR\",\n{\n            'v': 0.9882866574366507,\n            'f': \"0.9882866574366507\",\n        },\n{\n            'v': 0.9159696890178728,\n            'f': \"0.9159696890178728\",\n        },\n{\n            'v': 250,\n            'f': \"250\",\n        }],\n [{\n            'v': 5,\n            'f': \"5\",\n        },\n\"DTR\",\n{\n            'v': 0.988302039559388,\n            'f': \"0.988302039559388\",\n        },\n{\n            'v': 0.9163698516924283,\n            'f': \"0.9163698516924283\",\n        },\n{\n            'v': 500,\n            'f': \"500\",\n        }]],\n        columns: [[\"number\", \"index\"], [\"string\", \"Model\"], [\"number\", \"Training Score\"], [\"number\", \"Testing Score\"], [\"number\", \"n_estimators\"]],\n        columnOptions: [{\"width\": \"1px\", \"className\": \"index_column\"}],\n        rowsPerPage: 25,\n        helpUrl: \"https://colab.research.google.com/notebooks/data_table.ipynb\",\n        suppressOutputScrolling: true,\n        minimumWidth: undefined,\n      });\n    "
          },
          "metadata": {}
        }
      ]
    },
    {
      "cell_type": "code",
      "source": [
        "# importing package\n",
        "import matplotlib.pyplot as plt\n",
        "  \n",
        "x0 = dfScoresDTR['n_estimators']\n",
        "y1 = dfScoresDTR['Training Score']\n",
        "y2 = dfScoresDTR['Testing Score']\n",
        "  \n",
        "# plot lines\n",
        "plt.plot(x0, y1, label = \"Training Score\", marker='o')\n",
        "plt.plot(x0, y2, label = \"Testing Score\", marker='o')\n",
        "plt.ylim([0.82, 1])\n",
        "plt.title(\"Relation between n_estimators and Scores in a DT Regression\")\n",
        "plt.xlabel(\"Neighbors\")\n",
        "plt.ylabel(\"Scores\")\n",
        "plt.legend()\n",
        "plt.show()"
      ],
      "metadata": {
        "colab": {
          "base_uri": "https://localhost:8080/",
          "height": 299
        },
        "id": "Cqj47X3qpqho",
        "outputId": "c1237cf6-f0fb-489f-9018-46e9cad3bff7"
      },
      "execution_count": null,
      "outputs": [
        {
          "output_type": "display_data",
          "data": {
            "text/plain": [
              "<Figure size 432x288 with 1 Axes>"
            ],
            "image/png": "[encoded data removed]"
          },
          "metadata": {}
        }
      ]
    },
    {
      "cell_type": "markdown",
      "source": [
        "**Conclusion:** Basado en la tabla de los Scores obtenidos con diferentes n_estimators, el mejor caso fue cuando se establecio dicho hyper-parametro con valor mayor a 10, ya que fue donde se obtuvo los Scores (Train & Test) mas similares. A pesar que los Scores mejoran con mayor valor del hyper-parametro, los cambios son muy pequenos, aumentando el procesado de datos, por lo que parece que el mejor valor es alrrededor de 50."
      ],
      "metadata": {
        "id": "n2D2vln7LepG"
      }
    }
  ]
}